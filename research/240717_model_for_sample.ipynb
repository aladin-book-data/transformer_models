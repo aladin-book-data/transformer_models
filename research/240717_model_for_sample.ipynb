{
 "cells": [
  {
   "cell_type": "code",
   "execution_count": null,
   "metadata": {},
   "outputs": [],
   "source": []
  },
  {
   "cell_type": "code",
   "execution_count": 2,
   "metadata": {},
   "outputs": [],
   "source": [
    "import numpy as np\n",
    "import pandas as pd\n",
    "import seaborn as sns\n",
    "import matplotlib as mpl\n",
    "import matplotlib.pyplot as plt\n",
    "import matplotlib_inline.backend_inline\n",
    "\n",
    "# 그래프의 폰트 출력을 선명하게 (svg, retina 등이 있음)\n",
    "matplotlib_inline.backend_inline.set_matplotlib_formats(\"png2x\")\n",
    "# 테마 설정: \"default\", \"classic\", \"dark_background\", \"fivethirtyeight\", \"seaborn\"\n",
    "mpl.style.use(\"default\")\n",
    "# 이미지가 레이아웃 안으로 들어오도록 함\n",
    "# https://matplotlib.org/stable/users/explain/axes/constrainedlayout_guide.html\n",
    "mpl.rcParams.update({\"figure.constrained_layout.use\": True})\n",
    "\n",
    "#font, line, marker 등의 배율 설정: paper, notebook, talk, poster\n",
    "sns.set_context(\"paper\") \n",
    "#배색 설정: tab10, Set2, Accent, husl\n",
    "sns.set_palette(\"Set2\") \n",
    "#눈금, 배경, 격자 설정: ticks, white, whitegrid, dark, darkgrid\n",
    "# withegrid: 눈금을 그리고, 각 축의 눈금을 제거\n",
    "sns.set_style(\"whitegrid\") "
   ]
  },
  {
   "cell_type": "code",
   "execution_count": 3,
   "metadata": {},
   "outputs": [],
   "source": [
    "# 로컬에서 \n",
    "\n",
    "plt.rc(\"font\", family = \"D2Coding\")\n",
    "plt.rcParams[\"axes.unicode_minus\"] = False"
   ]
  },
  {
   "cell_type": "code",
   "execution_count": 4,
   "metadata": {},
   "outputs": [],
   "source": [
    "import os, natsort, re\n",
    "from tqdm import tqdm\n",
    "import time, random"
   ]
  },
  {
   "cell_type": "code",
   "execution_count": 5,
   "metadata": {},
   "outputs": [],
   "source": [
    "PRJCT_PATH = '/home/doeun/code/AI/ESTSOFT2024/workspace/2.project_text/aladin_usedbook/'\n",
    "save_dir = 'processed/'"
   ]
  },
  {
   "cell_type": "code",
   "execution_count": 6,
   "metadata": {},
   "outputs": [],
   "source": [
    "bookinfo_name = 'encoded_bookinfo_ver{}.pkl'.format(0.75)\n",
    "usedinfo_name = 'encoded_usedinfo_ver{}.csv'.format(0)\n",
    "bookinfo_path = os.path.join(PRJCT_PATH,save_dir,bookinfo_name)\n",
    "usedinfo_path = os.path.join(PRJCT_PATH,save_dir,usedinfo_name)"
   ]
  },
  {
   "cell_type": "code",
   "execution_count": 7,
   "metadata": {},
   "outputs": [
    {
     "data": {
      "text/html": [
       "<div>\n",
       "<style scoped>\n",
       "    .dataframe tbody tr th:only-of-type {\n",
       "        vertical-align: middle;\n",
       "    }\n",
       "\n",
       "    .dataframe tbody tr th {\n",
       "        vertical-align: top;\n",
       "    }\n",
       "\n",
       "    .dataframe thead th {\n",
       "        text-align: right;\n",
       "    }\n",
       "</style>\n",
       "<table border=\"1\" class=\"dataframe\">\n",
       "  <thead>\n",
       "    <tr style=\"text-align: right;\">\n",
       "      <th></th>\n",
       "      <th>ItemId</th>\n",
       "      <th>quality</th>\n",
       "      <th>store</th>\n",
       "      <th>price</th>\n",
       "    </tr>\n",
       "  </thead>\n",
       "  <tbody>\n",
       "    <tr>\n",
       "      <th>0</th>\n",
       "      <td>1000152</td>\n",
       "      <td>2</td>\n",
       "      <td>26</td>\n",
       "      <td>7300</td>\n",
       "    </tr>\n",
       "    <tr>\n",
       "      <th>1</th>\n",
       "      <td>1000152</td>\n",
       "      <td>2</td>\n",
       "      <td>16</td>\n",
       "      <td>7400</td>\n",
       "    </tr>\n",
       "    <tr>\n",
       "      <th>2</th>\n",
       "      <td>1000152</td>\n",
       "      <td>2</td>\n",
       "      <td>25</td>\n",
       "      <td>7400</td>\n",
       "    </tr>\n",
       "    <tr>\n",
       "      <th>3</th>\n",
       "      <td>1000152</td>\n",
       "      <td>3</td>\n",
       "      <td>41</td>\n",
       "      <td>7700</td>\n",
       "    </tr>\n",
       "    <tr>\n",
       "      <th>4</th>\n",
       "      <td>1000152</td>\n",
       "      <td>3</td>\n",
       "      <td>16</td>\n",
       "      <td>7700</td>\n",
       "    </tr>\n",
       "    <tr>\n",
       "      <th>...</th>\n",
       "      <td>...</td>\n",
       "      <td>...</td>\n",
       "      <td>...</td>\n",
       "      <td>...</td>\n",
       "    </tr>\n",
       "    <tr>\n",
       "      <th>70234</th>\n",
       "      <td>999466</td>\n",
       "      <td>2</td>\n",
       "      <td>33</td>\n",
       "      <td>5000</td>\n",
       "    </tr>\n",
       "    <tr>\n",
       "      <th>70235</th>\n",
       "      <td>999466</td>\n",
       "      <td>2</td>\n",
       "      <td>13</td>\n",
       "      <td>5000</td>\n",
       "    </tr>\n",
       "    <tr>\n",
       "      <th>70236</th>\n",
       "      <td>999466</td>\n",
       "      <td>2</td>\n",
       "      <td>47</td>\n",
       "      <td>5000</td>\n",
       "    </tr>\n",
       "    <tr>\n",
       "      <th>70237</th>\n",
       "      <td>999466</td>\n",
       "      <td>2</td>\n",
       "      <td>11</td>\n",
       "      <td>5000</td>\n",
       "    </tr>\n",
       "    <tr>\n",
       "      <th>70238</th>\n",
       "      <td>999466</td>\n",
       "      <td>2</td>\n",
       "      <td>19</td>\n",
       "      <td>5000</td>\n",
       "    </tr>\n",
       "  </tbody>\n",
       "</table>\n",
       "<p>70239 rows × 4 columns</p>\n",
       "</div>"
      ],
      "text/plain": [
       "        ItemId  quality  store  price\n",
       "0      1000152        2     26   7300\n",
       "1      1000152        2     16   7400\n",
       "2      1000152        2     25   7400\n",
       "3      1000152        3     41   7700\n",
       "4      1000152        3     16   7700\n",
       "...        ...      ...    ...    ...\n",
       "70234   999466        2     33   5000\n",
       "70235   999466        2     13   5000\n",
       "70236   999466        2     47   5000\n",
       "70237   999466        2     11   5000\n",
       "70238   999466        2     19   5000\n",
       "\n",
       "[70239 rows x 4 columns]"
      ]
     },
     "metadata": {},
     "output_type": "display_data"
    },
    {
     "data": {
      "text/html": [
       "<div>\n",
       "<style scoped>\n",
       "    .dataframe tbody tr th:only-of-type {\n",
       "        vertical-align: middle;\n",
       "    }\n",
       "\n",
       "    .dataframe tbody tr th {\n",
       "        vertical-align: top;\n",
       "    }\n",
       "\n",
       "    .dataframe thead th {\n",
       "        text-align: right;\n",
       "    }\n",
       "</style>\n",
       "<table border=\"1\" class=\"dataframe\">\n",
       "  <thead>\n",
       "    <tr style=\"text-align: right;\">\n",
       "      <th></th>\n",
       "      <th>BName</th>\n",
       "      <th>BName_sub</th>\n",
       "      <th>ItemId</th>\n",
       "      <th>Author</th>\n",
       "      <th>Author_mul</th>\n",
       "      <th>Publshr</th>\n",
       "      <th>Pdate</th>\n",
       "      <th>RglPrice</th>\n",
       "      <th>SlsPrice</th>\n",
       "      <th>SalesPoint</th>\n",
       "      <th>Category</th>\n",
       "    </tr>\n",
       "  </thead>\n",
       "  <tbody>\n",
       "    <tr>\n",
       "      <th>0</th>\n",
       "      <td>[8075, 353, 61, 12, 0, 0, 0, 0, 0, 0, 0, 0, 0,...</td>\n",
       "      <td>[0, 0, 0, 0, 0, 0, 0, 0, 0, 0, 0, 0, 0, 0, 0, ...</td>\n",
       "      <td>54947</td>\n",
       "      <td>0</td>\n",
       "      <td>False</td>\n",
       "      <td>0</td>\n",
       "      <td>1979-10-01</td>\n",
       "      <td>5500</td>\n",
       "      <td>4950</td>\n",
       "      <td>177.0</td>\n",
       "      <td>[20, 0, 0, 0, 0]</td>\n",
       "    </tr>\n",
       "    <tr>\n",
       "      <th>1</th>\n",
       "      <td>[219, 40, 2, 1847, 0, 0, 0, 0, 0, 0, 0, 0, 0, ...</td>\n",
       "      <td>[0, 0, 0, 0, 0, 0, 0, 0, 0, 0, 0, 0, 0, 0, 0, ...</td>\n",
       "      <td>168173</td>\n",
       "      <td>1727</td>\n",
       "      <td>False</td>\n",
       "      <td>0</td>\n",
       "      <td>1979-12-01</td>\n",
       "      <td>2800</td>\n",
       "      <td>2660</td>\n",
       "      <td>1960.0</td>\n",
       "      <td>[43, 1, 44, 0, 0]</td>\n",
       "    </tr>\n",
       "    <tr>\n",
       "      <th>2</th>\n",
       "      <td>[925, 79, 124, 6, 1081, 0, 0, 0, 0, 0, 0, 0, 0...</td>\n",
       "      <td>[0, 0, 0, 0, 0, 0, 0, 0, 0, 0, 0, 0, 0, 0, 0, ...</td>\n",
       "      <td>458277</td>\n",
       "      <td>0</td>\n",
       "      <td>False</td>\n",
       "      <td>0</td>\n",
       "      <td>1980-12-01</td>\n",
       "      <td>4500</td>\n",
       "      <td>4050</td>\n",
       "      <td>552.0</td>\n",
       "      <td>[43, 1, 44, 0, 0]</td>\n",
       "    </tr>\n",
       "    <tr>\n",
       "      <th>3</th>\n",
       "      <td>[3061, 726, 0, 0, 0, 0, 0, 0, 0, 0, 0, 0, 0, 0...</td>\n",
       "      <td>[0, 0, 0, 0, 0, 0, 0, 0, 0, 0, 0, 0, 0, 0, 0, ...</td>\n",
       "      <td>128759</td>\n",
       "      <td>1467</td>\n",
       "      <td>False</td>\n",
       "      <td>48</td>\n",
       "      <td>1983-06-01</td>\n",
       "      <td>6000</td>\n",
       "      <td>6000</td>\n",
       "      <td>409.0</td>\n",
       "      <td>[32, 22, 0, 0, 0]</td>\n",
       "    </tr>\n",
       "    <tr>\n",
       "      <th>4</th>\n",
       "      <td>[1081, 2, 214, 0, 0, 0, 0, 0, 0, 0, 0, 0, 0, 0...</td>\n",
       "      <td>[0, 0, 0, 0, 0, 0, 0, 0, 0, 0, 0, 0, 0, 0, 0, ...</td>\n",
       "      <td>131488</td>\n",
       "      <td>3427</td>\n",
       "      <td>False</td>\n",
       "      <td>0</td>\n",
       "      <td>1984-07-01</td>\n",
       "      <td>12000</td>\n",
       "      <td>12000</td>\n",
       "      <td>1110.0</td>\n",
       "      <td>[43, 1, 44, 0, 0]</td>\n",
       "    </tr>\n",
       "    <tr>\n",
       "      <th>...</th>\n",
       "      <td>...</td>\n",
       "      <td>...</td>\n",
       "      <td>...</td>\n",
       "      <td>...</td>\n",
       "      <td>...</td>\n",
       "      <td>...</td>\n",
       "      <td>...</td>\n",
       "      <td>...</td>\n",
       "      <td>...</td>\n",
       "      <td>...</td>\n",
       "      <td>...</td>\n",
       "    </tr>\n",
       "    <tr>\n",
       "      <th>9323</th>\n",
       "      <td>[4284, 2, 3488, 3814, 198, 0, 0, 0, 0, 0, 0, 0...</td>\n",
       "      <td>[0, 0, 0, 0, 0, 0, 0, 0, 0, 0, 0, 0, 0, 0, 0, ...</td>\n",
       "      <td>342597187</td>\n",
       "      <td>1038</td>\n",
       "      <td>True</td>\n",
       "      <td>2</td>\n",
       "      <td>2024-07-25</td>\n",
       "      <td>6000</td>\n",
       "      <td>5400</td>\n",
       "      <td>10530.0</td>\n",
       "      <td>[7, 0, 0, 0, 0]</td>\n",
       "    </tr>\n",
       "    <tr>\n",
       "      <th>9324</th>\n",
       "      <td>[1806, 2, 1937, 327, 0, 0, 0, 0, 0, 0, 0, 0, 0...</td>\n",
       "      <td>[0, 0, 0, 0, 0, 0, 0, 0, 0, 0, 0, 0, 0, 0, 0, ...</td>\n",
       "      <td>342597589</td>\n",
       "      <td>1579</td>\n",
       "      <td>True</td>\n",
       "      <td>2</td>\n",
       "      <td>2024-07-25</td>\n",
       "      <td>6000</td>\n",
       "      <td>5400</td>\n",
       "      <td>5870.0</td>\n",
       "      <td>[7, 0, 0, 0, 0]</td>\n",
       "    </tr>\n",
       "    <tr>\n",
       "      <th>9325</th>\n",
       "      <td>[1147, 2270, 406, 399, 770, 5268, 115, 67, 80,...</td>\n",
       "      <td>[0, 0, 0, 0, 0, 0, 0, 0, 0, 0, 0, 0, 0, 0, 0, ...</td>\n",
       "      <td>342597714</td>\n",
       "      <td>1488</td>\n",
       "      <td>True</td>\n",
       "      <td>2</td>\n",
       "      <td>2024-07-25</td>\n",
       "      <td>6000</td>\n",
       "      <td>5400</td>\n",
       "      <td>6370.0</td>\n",
       "      <td>[7, 0, 0, 0, 0]</td>\n",
       "    </tr>\n",
       "    <tr>\n",
       "      <th>9326</th>\n",
       "      <td>[496, 2, 148, 3, 6700, 12, 0, 0, 0, 0, 0, 0, 0...</td>\n",
       "      <td>[0, 0, 0, 0, 0, 0, 0, 0, 0, 0, 0, 0, 0, 0, 0, ...</td>\n",
       "      <td>342388828</td>\n",
       "      <td>468</td>\n",
       "      <td>True</td>\n",
       "      <td>0</td>\n",
       "      <td>2024-07-31</td>\n",
       "      <td>13000</td>\n",
       "      <td>11700</td>\n",
       "      <td>8190.0</td>\n",
       "      <td>[133, 0, 0, 0, 0]</td>\n",
       "    </tr>\n",
       "    <tr>\n",
       "      <th>9327</th>\n",
       "      <td>[1193, 102, 5880, 216, 356, 23, 1264, 0, 0, 0,...</td>\n",
       "      <td>[8, 957, 9, 0, 0, 0, 0, 0, 0, 0, 0, 0, 0, 0, 0...</td>\n",
       "      <td>342594262</td>\n",
       "      <td>96</td>\n",
       "      <td>True</td>\n",
       "      <td>9</td>\n",
       "      <td>2024-07-31</td>\n",
       "      <td>25000</td>\n",
       "      <td>22500</td>\n",
       "      <td>89930.0</td>\n",
       "      <td>[18, 0, 0, 0, 0]</td>\n",
       "    </tr>\n",
       "  </tbody>\n",
       "</table>\n",
       "<p>9328 rows × 11 columns</p>\n",
       "</div>"
      ],
      "text/plain": [
       "                                                  BName  \\\n",
       "0     [8075, 353, 61, 12, 0, 0, 0, 0, 0, 0, 0, 0, 0,...   \n",
       "1     [219, 40, 2, 1847, 0, 0, 0, 0, 0, 0, 0, 0, 0, ...   \n",
       "2     [925, 79, 124, 6, 1081, 0, 0, 0, 0, 0, 0, 0, 0...   \n",
       "3     [3061, 726, 0, 0, 0, 0, 0, 0, 0, 0, 0, 0, 0, 0...   \n",
       "4     [1081, 2, 214, 0, 0, 0, 0, 0, 0, 0, 0, 0, 0, 0...   \n",
       "...                                                 ...   \n",
       "9323  [4284, 2, 3488, 3814, 198, 0, 0, 0, 0, 0, 0, 0...   \n",
       "9324  [1806, 2, 1937, 327, 0, 0, 0, 0, 0, 0, 0, 0, 0...   \n",
       "9325  [1147, 2270, 406, 399, 770, 5268, 115, 67, 80,...   \n",
       "9326  [496, 2, 148, 3, 6700, 12, 0, 0, 0, 0, 0, 0, 0...   \n",
       "9327  [1193, 102, 5880, 216, 356, 23, 1264, 0, 0, 0,...   \n",
       "\n",
       "                                              BName_sub     ItemId  Author  \\\n",
       "0     [0, 0, 0, 0, 0, 0, 0, 0, 0, 0, 0, 0, 0, 0, 0, ...      54947       0   \n",
       "1     [0, 0, 0, 0, 0, 0, 0, 0, 0, 0, 0, 0, 0, 0, 0, ...     168173    1727   \n",
       "2     [0, 0, 0, 0, 0, 0, 0, 0, 0, 0, 0, 0, 0, 0, 0, ...     458277       0   \n",
       "3     [0, 0, 0, 0, 0, 0, 0, 0, 0, 0, 0, 0, 0, 0, 0, ...     128759    1467   \n",
       "4     [0, 0, 0, 0, 0, 0, 0, 0, 0, 0, 0, 0, 0, 0, 0, ...     131488    3427   \n",
       "...                                                 ...        ...     ...   \n",
       "9323  [0, 0, 0, 0, 0, 0, 0, 0, 0, 0, 0, 0, 0, 0, 0, ...  342597187    1038   \n",
       "9324  [0, 0, 0, 0, 0, 0, 0, 0, 0, 0, 0, 0, 0, 0, 0, ...  342597589    1579   \n",
       "9325  [0, 0, 0, 0, 0, 0, 0, 0, 0, 0, 0, 0, 0, 0, 0, ...  342597714    1488   \n",
       "9326  [0, 0, 0, 0, 0, 0, 0, 0, 0, 0, 0, 0, 0, 0, 0, ...  342388828     468   \n",
       "9327  [8, 957, 9, 0, 0, 0, 0, 0, 0, 0, 0, 0, 0, 0, 0...  342594262      96   \n",
       "\n",
       "      Author_mul  Publshr      Pdate  RglPrice  SlsPrice  SalesPoint  \\\n",
       "0          False        0 1979-10-01      5500      4950       177.0   \n",
       "1          False        0 1979-12-01      2800      2660      1960.0   \n",
       "2          False        0 1980-12-01      4500      4050       552.0   \n",
       "3          False       48 1983-06-01      6000      6000       409.0   \n",
       "4          False        0 1984-07-01     12000     12000      1110.0   \n",
       "...          ...      ...        ...       ...       ...         ...   \n",
       "9323        True        2 2024-07-25      6000      5400     10530.0   \n",
       "9324        True        2 2024-07-25      6000      5400      5870.0   \n",
       "9325        True        2 2024-07-25      6000      5400      6370.0   \n",
       "9326        True        0 2024-07-31     13000     11700      8190.0   \n",
       "9327        True        9 2024-07-31     25000     22500     89930.0   \n",
       "\n",
       "               Category  \n",
       "0      [20, 0, 0, 0, 0]  \n",
       "1     [43, 1, 44, 0, 0]  \n",
       "2     [43, 1, 44, 0, 0]  \n",
       "3     [32, 22, 0, 0, 0]  \n",
       "4     [43, 1, 44, 0, 0]  \n",
       "...                 ...  \n",
       "9323    [7, 0, 0, 0, 0]  \n",
       "9324    [7, 0, 0, 0, 0]  \n",
       "9325    [7, 0, 0, 0, 0]  \n",
       "9326  [133, 0, 0, 0, 0]  \n",
       "9327   [18, 0, 0, 0, 0]  \n",
       "\n",
       "[9328 rows x 11 columns]"
      ]
     },
     "metadata": {},
     "output_type": "display_data"
    }
   ],
   "source": [
    "usedinfo = pd.read_csv(usedinfo_path)\n",
    "\n",
    "import pickle\n",
    "\n",
    "with open(bookinfo_path,'rb') as f:\n",
    "    bookinfo = pickle.load(f)\n",
    "\n",
    "display(usedinfo)\n",
    "display(bookinfo )"
   ]
  },
  {
   "cell_type": "code",
   "execution_count": 8,
   "metadata": {},
   "outputs": [
    {
     "name": "stdout",
     "output_type": "stream",
     "text": [
      "<class 'pandas.core.frame.DataFrame'>\n",
      "RangeIndex: 70239 entries, 0 to 70238\n",
      "Data columns (total 4 columns):\n",
      " #   Column   Non-Null Count  Dtype\n",
      "---  ------   --------------  -----\n",
      " 0   ItemId   70239 non-null  int64\n",
      " 1   quality  70239 non-null  int64\n",
      " 2   store    70239 non-null  int64\n",
      " 3   price    70239 non-null  int64\n",
      "dtypes: int64(4)\n",
      "memory usage: 2.1 MB\n"
     ]
    },
    {
     "data": {
      "text/plain": [
       "None"
      ]
     },
     "metadata": {},
     "output_type": "display_data"
    },
    {
     "name": "stdout",
     "output_type": "stream",
     "text": [
      "<class 'pandas.core.frame.DataFrame'>\n",
      "RangeIndex: 9328 entries, 0 to 9327\n",
      "Data columns (total 11 columns):\n",
      " #   Column      Non-Null Count  Dtype         \n",
      "---  ------      --------------  -----         \n",
      " 0   BName       9328 non-null   object        \n",
      " 1   BName_sub   9328 non-null   object        \n",
      " 2   ItemId      9328 non-null   int64         \n",
      " 3   Author      9328 non-null   int64         \n",
      " 4   Author_mul  9328 non-null   bool          \n",
      " 5   Publshr     9328 non-null   int64         \n",
      " 6   Pdate       9328 non-null   datetime64[ns]\n",
      " 7   RglPrice    9328 non-null   int64         \n",
      " 8   SlsPrice    9328 non-null   int64         \n",
      " 9   SalesPoint  9328 non-null   float64       \n",
      " 10  Category    9328 non-null   object        \n",
      "dtypes: bool(1), datetime64[ns](1), float64(1), int64(5), object(3)\n",
      "memory usage: 738.0+ KB\n"
     ]
    },
    {
     "data": {
      "text/plain": [
       "None"
      ]
     },
     "metadata": {},
     "output_type": "display_data"
    }
   ],
   "source": [
    "display(usedinfo.info())\n",
    "display(bookinfo.info())"
   ]
  },
  {
   "cell_type": "code",
   "execution_count": 66,
   "metadata": {},
   "outputs": [],
   "source": [
    "from sklearn.model_selection import train_test_split\n",
    "\n",
    "def lists_append_together(lists:list,data:list):\n",
    "    tuple(map(lambda x : x[0].append(x[1]),zip(lists,data)))\n",
    "    return lists\n",
    "\n",
    "def train_test_split_strat(X:pd.DataFrame,y:pd.Series,strat=None,method='order',n_strata=10,**kwargs):\n",
    "    type_x,type_y = type(X), type(y)\n",
    "    assert type_x == type_y \n",
    "    if strat is None : strat = y\n",
    "    if method in ['quantile','order'] :\n",
    "        p_arr = np.linspace(0,n_strata)/n_strata\n",
    "        cut_p = np.quantile(strat,p_arr)\n",
    "    elif method == 'value':\n",
    "        cut_p = np.linspace(np.min(strat)-1,np.max(strat),n_strata)\n",
    "    cut_p[-1] = np.max(strat)+1\n",
    "    train_Xs,test_Xs,train_ys,test_ys = [],[],[],[]\n",
    "    data = [train_Xs,test_Xs,train_ys,test_ys]\n",
    "    res_Xs,res_ys =[],[]\n",
    "    for p_a,p_b in zip(cut_p[:-1],cut_p[1:]):\n",
    "        cond= (p_a <= strat) & (strat < p_b)\n",
    "        input_X, input_y = X[cond], y[cond]\n",
    "        if len(input_X) == 0 : continue\n",
    "        if len(input_X) == 1 : \n",
    "            res_Xs.append(input_X), res_ys.append(input_y)\n",
    "        else :\n",
    "            splited = train_test_split(input_X,input_y,**kwargs)\n",
    "            data = lists_append_together(data,splited)\n",
    "    if len(res_Xs) > 1 :\n",
    "        input_X, input_y = pd.concat(res_Xs), pd.concat(res_ys)\n",
    "        splited = train_test_split(input_X,input_y,**kwargs)\n",
    "        data = lists_append_together(data,splited)\n",
    "    elif len(res_Xs) == 1:\n",
    "        data[0],data[2] = lists_append_together([data[0],data[2]],[res_Xs[0],res_ys[0]])\n",
    "    \n",
    "    if type_x == type(np.array([])) :\n",
    "        func1 = lambda x : x.reshape(len(x),-1)\n",
    "        func = lambda x : np.vstack(map(func1,x))\n",
    "    else : func = pd.concat\n",
    "    return tuple(map(func,data))"
   ]
  },
  {
   "cell_type": "code",
   "execution_count": 11,
   "metadata": {},
   "outputs": [
    {
     "data": {
      "text/plain": [
       "Index(['ItemId', 'quality', 'store', 'price'], dtype='object')"
      ]
     },
     "execution_count": 11,
     "metadata": {},
     "output_type": "execute_result"
    }
   ],
   "source": [
    "usedinfo.columns"
   ]
  },
  {
   "cell_type": "markdown",
   "metadata": {},
   "source": [
    "### match bookinfo for each usedbook"
   ]
  },
  {
   "cell_type": "code",
   "execution_count": 21,
   "metadata": {},
   "outputs": [
    {
     "data": {
      "text/html": [
       "<div>\n",
       "<style scoped>\n",
       "    .dataframe tbody tr th:only-of-type {\n",
       "        vertical-align: middle;\n",
       "    }\n",
       "\n",
       "    .dataframe tbody tr th {\n",
       "        vertical-align: top;\n",
       "    }\n",
       "\n",
       "    .dataframe thead th {\n",
       "        text-align: right;\n",
       "    }\n",
       "</style>\n",
       "<table border=\"1\" class=\"dataframe\">\n",
       "  <thead>\n",
       "    <tr style=\"text-align: right;\">\n",
       "      <th></th>\n",
       "      <th>BName</th>\n",
       "      <th>BName_sub</th>\n",
       "      <th>Author</th>\n",
       "      <th>Author_mul</th>\n",
       "      <th>Publshr</th>\n",
       "      <th>Pdate</th>\n",
       "      <th>RglPrice</th>\n",
       "      <th>SlsPrice</th>\n",
       "      <th>SalesPoint</th>\n",
       "      <th>Category</th>\n",
       "    </tr>\n",
       "    <tr>\n",
       "      <th>ItemId</th>\n",
       "      <th></th>\n",
       "      <th></th>\n",
       "      <th></th>\n",
       "      <th></th>\n",
       "      <th></th>\n",
       "      <th></th>\n",
       "      <th></th>\n",
       "      <th></th>\n",
       "      <th></th>\n",
       "      <th></th>\n",
       "    </tr>\n",
       "  </thead>\n",
       "  <tbody>\n",
       "    <tr>\n",
       "      <th>54947</th>\n",
       "      <td>[8075, 353, 61, 12, 0, 0, 0, 0, 0, 0, 0, 0, 0,...</td>\n",
       "      <td>[0, 0, 0, 0, 0, 0, 0, 0, 0, 0, 0, 0, 0, 0, 0, ...</td>\n",
       "      <td>0</td>\n",
       "      <td>False</td>\n",
       "      <td>0</td>\n",
       "      <td>1979-10-01</td>\n",
       "      <td>5500</td>\n",
       "      <td>4950</td>\n",
       "      <td>177.0</td>\n",
       "      <td>[20, 0, 0, 0, 0]</td>\n",
       "    </tr>\n",
       "    <tr>\n",
       "      <th>168173</th>\n",
       "      <td>[219, 40, 2, 1847, 0, 0, 0, 0, 0, 0, 0, 0, 0, ...</td>\n",
       "      <td>[0, 0, 0, 0, 0, 0, 0, 0, 0, 0, 0, 0, 0, 0, 0, ...</td>\n",
       "      <td>1727</td>\n",
       "      <td>False</td>\n",
       "      <td>0</td>\n",
       "      <td>1979-12-01</td>\n",
       "      <td>2800</td>\n",
       "      <td>2660</td>\n",
       "      <td>1960.0</td>\n",
       "      <td>[43, 1, 44, 0, 0]</td>\n",
       "    </tr>\n",
       "    <tr>\n",
       "      <th>458277</th>\n",
       "      <td>[925, 79, 124, 6, 1081, 0, 0, 0, 0, 0, 0, 0, 0...</td>\n",
       "      <td>[0, 0, 0, 0, 0, 0, 0, 0, 0, 0, 0, 0, 0, 0, 0, ...</td>\n",
       "      <td>0</td>\n",
       "      <td>False</td>\n",
       "      <td>0</td>\n",
       "      <td>1980-12-01</td>\n",
       "      <td>4500</td>\n",
       "      <td>4050</td>\n",
       "      <td>552.0</td>\n",
       "      <td>[43, 1, 44, 0, 0]</td>\n",
       "    </tr>\n",
       "    <tr>\n",
       "      <th>128759</th>\n",
       "      <td>[3061, 726, 0, 0, 0, 0, 0, 0, 0, 0, 0, 0, 0, 0...</td>\n",
       "      <td>[0, 0, 0, 0, 0, 0, 0, 0, 0, 0, 0, 0, 0, 0, 0, ...</td>\n",
       "      <td>1467</td>\n",
       "      <td>False</td>\n",
       "      <td>48</td>\n",
       "      <td>1983-06-01</td>\n",
       "      <td>6000</td>\n",
       "      <td>6000</td>\n",
       "      <td>409.0</td>\n",
       "      <td>[32, 22, 0, 0, 0]</td>\n",
       "    </tr>\n",
       "    <tr>\n",
       "      <th>131488</th>\n",
       "      <td>[1081, 2, 214, 0, 0, 0, 0, 0, 0, 0, 0, 0, 0, 0...</td>\n",
       "      <td>[0, 0, 0, 0, 0, 0, 0, 0, 0, 0, 0, 0, 0, 0, 0, ...</td>\n",
       "      <td>3427</td>\n",
       "      <td>False</td>\n",
       "      <td>0</td>\n",
       "      <td>1984-07-01</td>\n",
       "      <td>12000</td>\n",
       "      <td>12000</td>\n",
       "      <td>1110.0</td>\n",
       "      <td>[43, 1, 44, 0, 0]</td>\n",
       "    </tr>\n",
       "    <tr>\n",
       "      <th>...</th>\n",
       "      <td>...</td>\n",
       "      <td>...</td>\n",
       "      <td>...</td>\n",
       "      <td>...</td>\n",
       "      <td>...</td>\n",
       "      <td>...</td>\n",
       "      <td>...</td>\n",
       "      <td>...</td>\n",
       "      <td>...</td>\n",
       "      <td>...</td>\n",
       "    </tr>\n",
       "    <tr>\n",
       "      <th>342597187</th>\n",
       "      <td>[4284, 2, 3488, 3814, 198, 0, 0, 0, 0, 0, 0, 0...</td>\n",
       "      <td>[0, 0, 0, 0, 0, 0, 0, 0, 0, 0, 0, 0, 0, 0, 0, ...</td>\n",
       "      <td>1038</td>\n",
       "      <td>True</td>\n",
       "      <td>2</td>\n",
       "      <td>2024-07-25</td>\n",
       "      <td>6000</td>\n",
       "      <td>5400</td>\n",
       "      <td>10530.0</td>\n",
       "      <td>[7, 0, 0, 0, 0]</td>\n",
       "    </tr>\n",
       "    <tr>\n",
       "      <th>342597589</th>\n",
       "      <td>[1806, 2, 1937, 327, 0, 0, 0, 0, 0, 0, 0, 0, 0...</td>\n",
       "      <td>[0, 0, 0, 0, 0, 0, 0, 0, 0, 0, 0, 0, 0, 0, 0, ...</td>\n",
       "      <td>1579</td>\n",
       "      <td>True</td>\n",
       "      <td>2</td>\n",
       "      <td>2024-07-25</td>\n",
       "      <td>6000</td>\n",
       "      <td>5400</td>\n",
       "      <td>5870.0</td>\n",
       "      <td>[7, 0, 0, 0, 0]</td>\n",
       "    </tr>\n",
       "    <tr>\n",
       "      <th>342597714</th>\n",
       "      <td>[1147, 2270, 406, 399, 770, 5268, 115, 67, 80,...</td>\n",
       "      <td>[0, 0, 0, 0, 0, 0, 0, 0, 0, 0, 0, 0, 0, 0, 0, ...</td>\n",
       "      <td>1488</td>\n",
       "      <td>True</td>\n",
       "      <td>2</td>\n",
       "      <td>2024-07-25</td>\n",
       "      <td>6000</td>\n",
       "      <td>5400</td>\n",
       "      <td>6370.0</td>\n",
       "      <td>[7, 0, 0, 0, 0]</td>\n",
       "    </tr>\n",
       "    <tr>\n",
       "      <th>342388828</th>\n",
       "      <td>[496, 2, 148, 3, 6700, 12, 0, 0, 0, 0, 0, 0, 0...</td>\n",
       "      <td>[0, 0, 0, 0, 0, 0, 0, 0, 0, 0, 0, 0, 0, 0, 0, ...</td>\n",
       "      <td>468</td>\n",
       "      <td>True</td>\n",
       "      <td>0</td>\n",
       "      <td>2024-07-31</td>\n",
       "      <td>13000</td>\n",
       "      <td>11700</td>\n",
       "      <td>8190.0</td>\n",
       "      <td>[133, 0, 0, 0, 0]</td>\n",
       "    </tr>\n",
       "    <tr>\n",
       "      <th>342594262</th>\n",
       "      <td>[1193, 102, 5880, 216, 356, 23, 1264, 0, 0, 0,...</td>\n",
       "      <td>[8, 957, 9, 0, 0, 0, 0, 0, 0, 0, 0, 0, 0, 0, 0...</td>\n",
       "      <td>96</td>\n",
       "      <td>True</td>\n",
       "      <td>9</td>\n",
       "      <td>2024-07-31</td>\n",
       "      <td>25000</td>\n",
       "      <td>22500</td>\n",
       "      <td>89930.0</td>\n",
       "      <td>[18, 0, 0, 0, 0]</td>\n",
       "    </tr>\n",
       "  </tbody>\n",
       "</table>\n",
       "<p>9328 rows × 10 columns</p>\n",
       "</div>"
      ],
      "text/plain": [
       "                                                       BName  \\\n",
       "ItemId                                                         \n",
       "54947      [8075, 353, 61, 12, 0, 0, 0, 0, 0, 0, 0, 0, 0,...   \n",
       "168173     [219, 40, 2, 1847, 0, 0, 0, 0, 0, 0, 0, 0, 0, ...   \n",
       "458277     [925, 79, 124, 6, 1081, 0, 0, 0, 0, 0, 0, 0, 0...   \n",
       "128759     [3061, 726, 0, 0, 0, 0, 0, 0, 0, 0, 0, 0, 0, 0...   \n",
       "131488     [1081, 2, 214, 0, 0, 0, 0, 0, 0, 0, 0, 0, 0, 0...   \n",
       "...                                                      ...   \n",
       "342597187  [4284, 2, 3488, 3814, 198, 0, 0, 0, 0, 0, 0, 0...   \n",
       "342597589  [1806, 2, 1937, 327, 0, 0, 0, 0, 0, 0, 0, 0, 0...   \n",
       "342597714  [1147, 2270, 406, 399, 770, 5268, 115, 67, 80,...   \n",
       "342388828  [496, 2, 148, 3, 6700, 12, 0, 0, 0, 0, 0, 0, 0...   \n",
       "342594262  [1193, 102, 5880, 216, 356, 23, 1264, 0, 0, 0,...   \n",
       "\n",
       "                                                   BName_sub  Author  \\\n",
       "ItemId                                                                 \n",
       "54947      [0, 0, 0, 0, 0, 0, 0, 0, 0, 0, 0, 0, 0, 0, 0, ...       0   \n",
       "168173     [0, 0, 0, 0, 0, 0, 0, 0, 0, 0, 0, 0, 0, 0, 0, ...    1727   \n",
       "458277     [0, 0, 0, 0, 0, 0, 0, 0, 0, 0, 0, 0, 0, 0, 0, ...       0   \n",
       "128759     [0, 0, 0, 0, 0, 0, 0, 0, 0, 0, 0, 0, 0, 0, 0, ...    1467   \n",
       "131488     [0, 0, 0, 0, 0, 0, 0, 0, 0, 0, 0, 0, 0, 0, 0, ...    3427   \n",
       "...                                                      ...     ...   \n",
       "342597187  [0, 0, 0, 0, 0, 0, 0, 0, 0, 0, 0, 0, 0, 0, 0, ...    1038   \n",
       "342597589  [0, 0, 0, 0, 0, 0, 0, 0, 0, 0, 0, 0, 0, 0, 0, ...    1579   \n",
       "342597714  [0, 0, 0, 0, 0, 0, 0, 0, 0, 0, 0, 0, 0, 0, 0, ...    1488   \n",
       "342388828  [0, 0, 0, 0, 0, 0, 0, 0, 0, 0, 0, 0, 0, 0, 0, ...     468   \n",
       "342594262  [8, 957, 9, 0, 0, 0, 0, 0, 0, 0, 0, 0, 0, 0, 0...      96   \n",
       "\n",
       "           Author_mul  Publshr      Pdate  RglPrice  SlsPrice  SalesPoint  \\\n",
       "ItemId                                                                      \n",
       "54947           False        0 1979-10-01      5500      4950       177.0   \n",
       "168173          False        0 1979-12-01      2800      2660      1960.0   \n",
       "458277          False        0 1980-12-01      4500      4050       552.0   \n",
       "128759          False       48 1983-06-01      6000      6000       409.0   \n",
       "131488          False        0 1984-07-01     12000     12000      1110.0   \n",
       "...               ...      ...        ...       ...       ...         ...   \n",
       "342597187        True        2 2024-07-25      6000      5400     10530.0   \n",
       "342597589        True        2 2024-07-25      6000      5400      5870.0   \n",
       "342597714        True        2 2024-07-25      6000      5400      6370.0   \n",
       "342388828        True        0 2024-07-31     13000     11700      8190.0   \n",
       "342594262        True        9 2024-07-31     25000     22500     89930.0   \n",
       "\n",
       "                    Category  \n",
       "ItemId                        \n",
       "54947       [20, 0, 0, 0, 0]  \n",
       "168173     [43, 1, 44, 0, 0]  \n",
       "458277     [43, 1, 44, 0, 0]  \n",
       "128759     [32, 22, 0, 0, 0]  \n",
       "131488     [43, 1, 44, 0, 0]  \n",
       "...                      ...  \n",
       "342597187    [7, 0, 0, 0, 0]  \n",
       "342597589    [7, 0, 0, 0, 0]  \n",
       "342597714    [7, 0, 0, 0, 0]  \n",
       "342388828  [133, 0, 0, 0, 0]  \n",
       "342594262   [18, 0, 0, 0, 0]  \n",
       "\n",
       "[9328 rows x 10 columns]"
      ]
     },
     "execution_count": 21,
     "metadata": {},
     "output_type": "execute_result"
    }
   ],
   "source": [
    "bookinfo = bookinfo.set_index('ItemId')\n",
    "bookinfo"
   ]
  },
  {
   "cell_type": "code",
   "execution_count": 22,
   "metadata": {},
   "outputs": [
    {
     "data": {
      "text/plain": [
       "Index(['BName', 'BName_sub', 'Author', 'Author_mul', 'Publshr', 'Pdate',\n",
       "       'RglPrice', 'SlsPrice', 'SalesPoint', 'Category'],\n",
       "      dtype='object')"
      ]
     },
     "execution_count": 22,
     "metadata": {},
     "output_type": "execute_result"
    }
   ],
   "source": [
    "bookinfo.columns"
   ]
  },
  {
   "cell_type": "code",
   "execution_count": 23,
   "metadata": {},
   "outputs": [
    {
     "data": {
      "text/html": [
       "<div>\n",
       "<style scoped>\n",
       "    .dataframe tbody tr th:only-of-type {\n",
       "        vertical-align: middle;\n",
       "    }\n",
       "\n",
       "    .dataframe tbody tr th {\n",
       "        vertical-align: top;\n",
       "    }\n",
       "\n",
       "    .dataframe thead th {\n",
       "        text-align: right;\n",
       "    }\n",
       "</style>\n",
       "<table border=\"1\" class=\"dataframe\">\n",
       "  <thead>\n",
       "    <tr style=\"text-align: right;\">\n",
       "      <th></th>\n",
       "      <th>ItemId</th>\n",
       "      <th>quality</th>\n",
       "      <th>store</th>\n",
       "      <th>price</th>\n",
       "      <th>BName</th>\n",
       "      <th>BName_sub</th>\n",
       "      <th>Author</th>\n",
       "      <th>Author_mul</th>\n",
       "      <th>Publshr</th>\n",
       "      <th>Pdate</th>\n",
       "      <th>RglPrice</th>\n",
       "      <th>SlsPrice</th>\n",
       "      <th>SalesPoint</th>\n",
       "      <th>Category</th>\n",
       "    </tr>\n",
       "  </thead>\n",
       "  <tbody>\n",
       "    <tr>\n",
       "      <th>0</th>\n",
       "      <td>1000152</td>\n",
       "      <td>2</td>\n",
       "      <td>26</td>\n",
       "      <td>7300</td>\n",
       "      <td>[2230, 0, 0, 0, 0, 0, 0, 0, 0, 0, 0, 0, 0, 0, ...</td>\n",
       "      <td>[0, 0, 0, 0, 0, 0, 0, 0, 0, 0, 0, 0, 0, 0, 0, ...</td>\n",
       "      <td>13</td>\n",
       "      <td>False</td>\n",
       "      <td>7</td>\n",
       "      <td>2007-10-30</td>\n",
       "      <td>12000</td>\n",
       "      <td>10800</td>\n",
       "      <td>57521.0</td>\n",
       "      <td>[4, 1, 3, 1, 5]</td>\n",
       "    </tr>\n",
       "    <tr>\n",
       "      <th>1</th>\n",
       "      <td>1000152</td>\n",
       "      <td>2</td>\n",
       "      <td>16</td>\n",
       "      <td>7400</td>\n",
       "      <td>[2230, 0, 0, 0, 0, 0, 0, 0, 0, 0, 0, 0, 0, 0, ...</td>\n",
       "      <td>[0, 0, 0, 0, 0, 0, 0, 0, 0, 0, 0, 0, 0, 0, 0, ...</td>\n",
       "      <td>13</td>\n",
       "      <td>False</td>\n",
       "      <td>7</td>\n",
       "      <td>2007-10-30</td>\n",
       "      <td>12000</td>\n",
       "      <td>10800</td>\n",
       "      <td>57521.0</td>\n",
       "      <td>[4, 1, 3, 1, 5]</td>\n",
       "    </tr>\n",
       "    <tr>\n",
       "      <th>2</th>\n",
       "      <td>1000152</td>\n",
       "      <td>2</td>\n",
       "      <td>25</td>\n",
       "      <td>7400</td>\n",
       "      <td>[2230, 0, 0, 0, 0, 0, 0, 0, 0, 0, 0, 0, 0, 0, ...</td>\n",
       "      <td>[0, 0, 0, 0, 0, 0, 0, 0, 0, 0, 0, 0, 0, 0, 0, ...</td>\n",
       "      <td>13</td>\n",
       "      <td>False</td>\n",
       "      <td>7</td>\n",
       "      <td>2007-10-30</td>\n",
       "      <td>12000</td>\n",
       "      <td>10800</td>\n",
       "      <td>57521.0</td>\n",
       "      <td>[4, 1, 3, 1, 5]</td>\n",
       "    </tr>\n",
       "    <tr>\n",
       "      <th>3</th>\n",
       "      <td>1000152</td>\n",
       "      <td>3</td>\n",
       "      <td>41</td>\n",
       "      <td>7700</td>\n",
       "      <td>[2230, 0, 0, 0, 0, 0, 0, 0, 0, 0, 0, 0, 0, 0, ...</td>\n",
       "      <td>[0, 0, 0, 0, 0, 0, 0, 0, 0, 0, 0, 0, 0, 0, 0, ...</td>\n",
       "      <td>13</td>\n",
       "      <td>False</td>\n",
       "      <td>7</td>\n",
       "      <td>2007-10-30</td>\n",
       "      <td>12000</td>\n",
       "      <td>10800</td>\n",
       "      <td>57521.0</td>\n",
       "      <td>[4, 1, 3, 1, 5]</td>\n",
       "    </tr>\n",
       "    <tr>\n",
       "      <th>4</th>\n",
       "      <td>1000152</td>\n",
       "      <td>3</td>\n",
       "      <td>16</td>\n",
       "      <td>7700</td>\n",
       "      <td>[2230, 0, 0, 0, 0, 0, 0, 0, 0, 0, 0, 0, 0, 0, ...</td>\n",
       "      <td>[0, 0, 0, 0, 0, 0, 0, 0, 0, 0, 0, 0, 0, 0, 0, ...</td>\n",
       "      <td>13</td>\n",
       "      <td>False</td>\n",
       "      <td>7</td>\n",
       "      <td>2007-10-30</td>\n",
       "      <td>12000</td>\n",
       "      <td>10800</td>\n",
       "      <td>57521.0</td>\n",
       "      <td>[4, 1, 3, 1, 5]</td>\n",
       "    </tr>\n",
       "    <tr>\n",
       "      <th>...</th>\n",
       "      <td>...</td>\n",
       "      <td>...</td>\n",
       "      <td>...</td>\n",
       "      <td>...</td>\n",
       "      <td>...</td>\n",
       "      <td>...</td>\n",
       "      <td>...</td>\n",
       "      <td>...</td>\n",
       "      <td>...</td>\n",
       "      <td>...</td>\n",
       "      <td>...</td>\n",
       "      <td>...</td>\n",
       "      <td>...</td>\n",
       "      <td>...</td>\n",
       "    </tr>\n",
       "    <tr>\n",
       "      <th>70234</th>\n",
       "      <td>999466</td>\n",
       "      <td>2</td>\n",
       "      <td>33</td>\n",
       "      <td>5000</td>\n",
       "      <td>[3980, 325, 0, 0, 0, 0, 0, 0, 0, 0, 0, 0, 0, 0...</td>\n",
       "      <td>[0, 0, 0, 0, 0, 0, 0, 0, 0, 0, 0, 0, 0, 0, 0, ...</td>\n",
       "      <td>338</td>\n",
       "      <td>True</td>\n",
       "      <td>0</td>\n",
       "      <td>2007-10-20</td>\n",
       "      <td>9000</td>\n",
       "      <td>8100</td>\n",
       "      <td>19046.0</td>\n",
       "      <td>[51, 0, 0, 0, 0]</td>\n",
       "    </tr>\n",
       "    <tr>\n",
       "      <th>70235</th>\n",
       "      <td>999466</td>\n",
       "      <td>2</td>\n",
       "      <td>13</td>\n",
       "      <td>5000</td>\n",
       "      <td>[3980, 325, 0, 0, 0, 0, 0, 0, 0, 0, 0, 0, 0, 0...</td>\n",
       "      <td>[0, 0, 0, 0, 0, 0, 0, 0, 0, 0, 0, 0, 0, 0, 0, ...</td>\n",
       "      <td>338</td>\n",
       "      <td>True</td>\n",
       "      <td>0</td>\n",
       "      <td>2007-10-20</td>\n",
       "      <td>9000</td>\n",
       "      <td>8100</td>\n",
       "      <td>19046.0</td>\n",
       "      <td>[51, 0, 0, 0, 0]</td>\n",
       "    </tr>\n",
       "    <tr>\n",
       "      <th>70236</th>\n",
       "      <td>999466</td>\n",
       "      <td>2</td>\n",
       "      <td>47</td>\n",
       "      <td>5000</td>\n",
       "      <td>[3980, 325, 0, 0, 0, 0, 0, 0, 0, 0, 0, 0, 0, 0...</td>\n",
       "      <td>[0, 0, 0, 0, 0, 0, 0, 0, 0, 0, 0, 0, 0, 0, 0, ...</td>\n",
       "      <td>338</td>\n",
       "      <td>True</td>\n",
       "      <td>0</td>\n",
       "      <td>2007-10-20</td>\n",
       "      <td>9000</td>\n",
       "      <td>8100</td>\n",
       "      <td>19046.0</td>\n",
       "      <td>[51, 0, 0, 0, 0]</td>\n",
       "    </tr>\n",
       "    <tr>\n",
       "      <th>70237</th>\n",
       "      <td>999466</td>\n",
       "      <td>2</td>\n",
       "      <td>11</td>\n",
       "      <td>5000</td>\n",
       "      <td>[3980, 325, 0, 0, 0, 0, 0, 0, 0, 0, 0, 0, 0, 0...</td>\n",
       "      <td>[0, 0, 0, 0, 0, 0, 0, 0, 0, 0, 0, 0, 0, 0, 0, ...</td>\n",
       "      <td>338</td>\n",
       "      <td>True</td>\n",
       "      <td>0</td>\n",
       "      <td>2007-10-20</td>\n",
       "      <td>9000</td>\n",
       "      <td>8100</td>\n",
       "      <td>19046.0</td>\n",
       "      <td>[51, 0, 0, 0, 0]</td>\n",
       "    </tr>\n",
       "    <tr>\n",
       "      <th>70238</th>\n",
       "      <td>999466</td>\n",
       "      <td>2</td>\n",
       "      <td>19</td>\n",
       "      <td>5000</td>\n",
       "      <td>[3980, 325, 0, 0, 0, 0, 0, 0, 0, 0, 0, 0, 0, 0...</td>\n",
       "      <td>[0, 0, 0, 0, 0, 0, 0, 0, 0, 0, 0, 0, 0, 0, 0, ...</td>\n",
       "      <td>338</td>\n",
       "      <td>True</td>\n",
       "      <td>0</td>\n",
       "      <td>2007-10-20</td>\n",
       "      <td>9000</td>\n",
       "      <td>8100</td>\n",
       "      <td>19046.0</td>\n",
       "      <td>[51, 0, 0, 0, 0]</td>\n",
       "    </tr>\n",
       "  </tbody>\n",
       "</table>\n",
       "<p>70239 rows × 14 columns</p>\n",
       "</div>"
      ],
      "text/plain": [
       "        ItemId  quality  store  price  \\\n",
       "0      1000152        2     26   7300   \n",
       "1      1000152        2     16   7400   \n",
       "2      1000152        2     25   7400   \n",
       "3      1000152        3     41   7700   \n",
       "4      1000152        3     16   7700   \n",
       "...        ...      ...    ...    ...   \n",
       "70234   999466        2     33   5000   \n",
       "70235   999466        2     13   5000   \n",
       "70236   999466        2     47   5000   \n",
       "70237   999466        2     11   5000   \n",
       "70238   999466        2     19   5000   \n",
       "\n",
       "                                                   BName  \\\n",
       "0      [2230, 0, 0, 0, 0, 0, 0, 0, 0, 0, 0, 0, 0, 0, ...   \n",
       "1      [2230, 0, 0, 0, 0, 0, 0, 0, 0, 0, 0, 0, 0, 0, ...   \n",
       "2      [2230, 0, 0, 0, 0, 0, 0, 0, 0, 0, 0, 0, 0, 0, ...   \n",
       "3      [2230, 0, 0, 0, 0, 0, 0, 0, 0, 0, 0, 0, 0, 0, ...   \n",
       "4      [2230, 0, 0, 0, 0, 0, 0, 0, 0, 0, 0, 0, 0, 0, ...   \n",
       "...                                                  ...   \n",
       "70234  [3980, 325, 0, 0, 0, 0, 0, 0, 0, 0, 0, 0, 0, 0...   \n",
       "70235  [3980, 325, 0, 0, 0, 0, 0, 0, 0, 0, 0, 0, 0, 0...   \n",
       "70236  [3980, 325, 0, 0, 0, 0, 0, 0, 0, 0, 0, 0, 0, 0...   \n",
       "70237  [3980, 325, 0, 0, 0, 0, 0, 0, 0, 0, 0, 0, 0, 0...   \n",
       "70238  [3980, 325, 0, 0, 0, 0, 0, 0, 0, 0, 0, 0, 0, 0...   \n",
       "\n",
       "                                               BName_sub  Author  Author_mul  \\\n",
       "0      [0, 0, 0, 0, 0, 0, 0, 0, 0, 0, 0, 0, 0, 0, 0, ...      13       False   \n",
       "1      [0, 0, 0, 0, 0, 0, 0, 0, 0, 0, 0, 0, 0, 0, 0, ...      13       False   \n",
       "2      [0, 0, 0, 0, 0, 0, 0, 0, 0, 0, 0, 0, 0, 0, 0, ...      13       False   \n",
       "3      [0, 0, 0, 0, 0, 0, 0, 0, 0, 0, 0, 0, 0, 0, 0, ...      13       False   \n",
       "4      [0, 0, 0, 0, 0, 0, 0, 0, 0, 0, 0, 0, 0, 0, 0, ...      13       False   \n",
       "...                                                  ...     ...         ...   \n",
       "70234  [0, 0, 0, 0, 0, 0, 0, 0, 0, 0, 0, 0, 0, 0, 0, ...     338        True   \n",
       "70235  [0, 0, 0, 0, 0, 0, 0, 0, 0, 0, 0, 0, 0, 0, 0, ...     338        True   \n",
       "70236  [0, 0, 0, 0, 0, 0, 0, 0, 0, 0, 0, 0, 0, 0, 0, ...     338        True   \n",
       "70237  [0, 0, 0, 0, 0, 0, 0, 0, 0, 0, 0, 0, 0, 0, 0, ...     338        True   \n",
       "70238  [0, 0, 0, 0, 0, 0, 0, 0, 0, 0, 0, 0, 0, 0, 0, ...     338        True   \n",
       "\n",
       "       Publshr      Pdate  RglPrice  SlsPrice  SalesPoint          Category  \n",
       "0            7 2007-10-30     12000     10800     57521.0   [4, 1, 3, 1, 5]  \n",
       "1            7 2007-10-30     12000     10800     57521.0   [4, 1, 3, 1, 5]  \n",
       "2            7 2007-10-30     12000     10800     57521.0   [4, 1, 3, 1, 5]  \n",
       "3            7 2007-10-30     12000     10800     57521.0   [4, 1, 3, 1, 5]  \n",
       "4            7 2007-10-30     12000     10800     57521.0   [4, 1, 3, 1, 5]  \n",
       "...        ...        ...       ...       ...         ...               ...  \n",
       "70234        0 2007-10-20      9000      8100     19046.0  [51, 0, 0, 0, 0]  \n",
       "70235        0 2007-10-20      9000      8100     19046.0  [51, 0, 0, 0, 0]  \n",
       "70236        0 2007-10-20      9000      8100     19046.0  [51, 0, 0, 0, 0]  \n",
       "70237        0 2007-10-20      9000      8100     19046.0  [51, 0, 0, 0, 0]  \n",
       "70238        0 2007-10-20      9000      8100     19046.0  [51, 0, 0, 0, 0]  \n",
       "\n",
       "[70239 rows x 14 columns]"
      ]
     },
     "execution_count": 23,
     "metadata": {},
     "output_type": "execute_result"
    }
   ],
   "source": [
    "book_cols = ['BName', 'BName_sub', 'Author', 'Author_mul', 'Publshr', 'Pdate',\n",
    "       'RglPrice', 'SlsPrice', 'SalesPoint', 'Category']\n",
    "for col in book_cols:\n",
    "    usedinfo[col] = usedinfo['ItemId'].apply(lambda x: bookinfo.loc[x,col])\n",
    "\n",
    "usedinfo"
   ]
  },
  {
   "cell_type": "code",
   "execution_count": 24,
   "metadata": {},
   "outputs": [
    {
     "data": {
      "text/plain": [
       "Index(['ItemId', 'quality', 'store', 'price', 'BName', 'BName_sub', 'Author',\n",
       "       'Author_mul', 'Publshr', 'Pdate', 'RglPrice', 'SlsPrice', 'SalesPoint',\n",
       "       'Category'],\n",
       "      dtype='object')"
      ]
     },
     "execution_count": 24,
     "metadata": {},
     "output_type": "execute_result"
    }
   ],
   "source": [
    "usedinfo.columns"
   ]
  },
  {
   "cell_type": "code",
   "execution_count": 106,
   "metadata": {},
   "outputs": [
    {
     "data": {
      "text/plain": [
       "pandas._libs.tslibs.timestamps.Timestamp"
      ]
     },
     "metadata": {},
     "output_type": "display_data"
    },
    {
     "data": {
      "text/plain": [
       "3128544.0"
      ]
     },
     "metadata": {},
     "output_type": "display_data"
    },
    {
     "data": {
      "text/plain": [
       "17072640.0"
      ]
     },
     "metadata": {},
     "output_type": "display_data"
    }
   ],
   "source": [
    "temp = usedinfo['Pdate']\n",
    "display(type(temp.iloc[0]))\n",
    "temp = temp.to_numpy(dtype=np.int64)\n",
    "temp = temp//(1e11)\n",
    "display(np.min(temp),np.max(temp))"
   ]
  },
  {
   "cell_type": "code",
   "execution_count": 107,
   "metadata": {},
   "outputs": [
    {
     "name": "stdout",
     "output_type": "stream",
     "text": [
      "<class 'pandas.core.frame.DataFrame'>\n",
      "RangeIndex: 70239 entries, 0 to 70238\n",
      "Data columns (total 14 columns):\n",
      " #   Column      Non-Null Count  Dtype  \n",
      "---  ------      --------------  -----  \n",
      " 0   ItemId      70239 non-null  int64  \n",
      " 1   quality     70239 non-null  int64  \n",
      " 2   store       70239 non-null  int64  \n",
      " 3   price       70239 non-null  int64  \n",
      " 4   BName       70239 non-null  object \n",
      " 5   BName_sub   70239 non-null  object \n",
      " 6   Author      70239 non-null  int64  \n",
      " 7   Author_mul  70239 non-null  bool   \n",
      " 8   Publshr     70239 non-null  int64  \n",
      " 9   Pdate       70239 non-null  float64\n",
      " 10  RglPrice    70239 non-null  int64  \n",
      " 11  SlsPrice    70239 non-null  int64  \n",
      " 12  SalesPoint  70239 non-null  float64\n",
      " 13  Category    70239 non-null  object \n",
      "dtypes: bool(1), float64(2), int64(8), object(3)\n",
      "memory usage: 7.0+ MB\n"
     ]
    }
   ],
   "source": [
    "usedinfo['Pdate'] = temp\n",
    "usedinfo.info()"
   ]
  },
  {
   "cell_type": "markdown",
   "metadata": {},
   "source": [
    "### make whole np.array data"
   ]
  },
  {
   "cell_type": "code",
   "execution_count": 108,
   "metadata": {},
   "outputs": [
    {
     "data": {
      "text/plain": [
       "(70239, 3)"
      ]
     },
     "execution_count": 108,
     "metadata": {},
     "output_type": "execute_result"
    }
   ],
   "source": [
    "cols_arry = ['Category','BName','BName_sub']\n",
    "temp = usedinfo[cols_arry].values\n",
    "temp.shape"
   ]
  },
  {
   "cell_type": "code",
   "execution_count": 109,
   "metadata": {},
   "outputs": [
    {
     "data": {
      "text/plain": [
       "(70239, 60)"
      ]
     },
     "metadata": {},
     "output_type": "display_data"
    },
    {
     "data": {
      "text/plain": [
       "numpy.ndarray"
      ]
     },
     "metadata": {},
     "output_type": "display_data"
    },
    {
     "data": {
      "text/plain": [
       "array([[ 4,  1,  3, ...,  0,  0,  0],\n",
       "       [ 4,  1,  3, ...,  0,  0,  0],\n",
       "       [ 4,  1,  3, ...,  0,  0,  0],\n",
       "       ...,\n",
       "       [51,  0,  0, ...,  0,  0,  0],\n",
       "       [51,  0,  0, ...,  0,  0,  0],\n",
       "       [51,  0,  0, ...,  0,  0,  0]])"
      ]
     },
     "metadata": {},
     "output_type": "display_data"
    }
   ],
   "source": [
    "temp_concat =np.apply_along_axis(np.hstack,1,temp)\n",
    "display(temp_concat.shape,type(temp_concat))\n",
    "display(temp_concat)"
   ]
  },
  {
   "cell_type": "code",
   "execution_count": 110,
   "metadata": {},
   "outputs": [
    {
     "data": {
      "text/plain": [
       "array([   4,    1,    3,    1,    5, 2230,    0,    0,    0,    0,    0,\n",
       "          0,    0,    0,    0,    0,    0,    0,    0,    0,    0,    0,\n",
       "          0,    0,    0,    0,    0,    0,    0,    0,    0,    0,    0,\n",
       "          0,    0,    0,    0,    0,    0,    0,    0,    0,    0,    0,\n",
       "          0,    0,    0,    0,    0,    0,    0,    0,    0,    0,    0,\n",
       "          0,    0,    0,    0,    0])"
      ]
     },
     "execution_count": 110,
     "metadata": {},
     "output_type": "execute_result"
    }
   ],
   "source": [
    "temp_concat[0]"
   ]
  },
  {
   "cell_type": "markdown",
   "metadata": {},
   "source": [
    "- (0,5) : category\n",
    "- (5,35) : BName\n",
    "- (35,60) : BName_sub"
   ]
  },
  {
   "cell_type": "code",
   "execution_count": 111,
   "metadata": {},
   "outputs": [
    {
     "data": {
      "text/plain": [
       "['quality',\n",
       " 'store',\n",
       " 'Author',\n",
       " 'Author_mul',\n",
       " 'Publshr',\n",
       " 'Pdate',\n",
       " 'RglPrice',\n",
       " 'SlsPrice',\n",
       " 'SalesPoint']"
      ]
     },
     "execution_count": 111,
     "metadata": {},
     "output_type": "execute_result"
    }
   ],
   "source": [
    "x_cols = ['ItemId', 'quality', 'store', 'BName', 'BName_sub', 'Author',\n",
    "       'Author_mul', 'Publshr', 'Pdate', 'RglPrice', 'SlsPrice', 'SalesPoint',\n",
    "       'Category']\n",
    "xcols_scalar = list(filter(lambda x : x not in cols_arry+['ItemId'],x_cols))\n",
    "xcols_scalar"
   ]
  },
  {
   "cell_type": "code",
   "execution_count": 112,
   "metadata": {},
   "outputs": [],
   "source": [
    "x_scalar = usedinfo[xcols_scalar].values\n",
    "X = np.hstack((temp_concat,x_scalar))"
   ]
  },
  {
   "cell_type": "code",
   "execution_count": 113,
   "metadata": {},
   "outputs": [
    {
     "data": {
      "text/plain": [
       "(70239, 1)"
      ]
     },
     "execution_count": 113,
     "metadata": {},
     "output_type": "execute_result"
    }
   ],
   "source": [
    "x_id = usedinfo['ItemId'].values.reshape(-1,1)\n",
    "x_id.shape"
   ]
  },
  {
   "cell_type": "code",
   "execution_count": 114,
   "metadata": {},
   "outputs": [
    {
     "data": {
      "text/plain": [
       "(70239, 70)"
      ]
     },
     "execution_count": 114,
     "metadata": {},
     "output_type": "execute_result"
    }
   ],
   "source": [
    "X = np.hstack((x_id,X))\n",
    "X.shape"
   ]
  },
  {
   "cell_type": "code",
   "execution_count": 115,
   "metadata": {},
   "outputs": [
    {
     "data": {
      "text/plain": [
       "True"
      ]
     },
     "execution_count": 115,
     "metadata": {},
     "output_type": "execute_result"
    }
   ],
   "source": [
    "type(X) == type(np.array([]))"
   ]
  },
  {
   "cell_type": "markdown",
   "metadata": {},
   "source": [
    "### train val test split and scaling"
   ]
  },
  {
   "cell_type": "code",
   "execution_count": 116,
   "metadata": {},
   "outputs": [
    {
     "name": "stderr",
     "output_type": "stream",
     "text": [
      "/tmp/ipykernel_2683/4258426944.py:38: FutureWarning: arrays to stack must be passed as a \"sequence\" type such as list or tuple. Support for non-sequence iterables such as generators is deprecated as of NumPy 1.16 and will raise an error in the future.\n",
      "  func = lambda x : np.vstack(map(func1,x))\n"
     ]
    }
   ],
   "source": [
    "y = usedinfo['price'].values\n",
    "\n",
    "X_dev,X_test,y_dev,y_test = train_test_split_strat(X,y,strat=X[:,0],test_size=0.2,random_state=329)\n",
    "X_train,X_val,y_train,y_val = train_test_split_strat(X_dev,y_dev,strat=X_dev[:,0],test_size=0.2,random_state=329)"
   ]
  },
  {
   "cell_type": "code",
   "execution_count": 117,
   "metadata": {},
   "outputs": [
    {
     "data": {
      "text/plain": [
       "(44919, 70)"
      ]
     },
     "metadata": {},
     "output_type": "display_data"
    },
    {
     "data": {
      "text/plain": [
       "(11254, 70)"
      ]
     },
     "metadata": {},
     "output_type": "display_data"
    },
    {
     "data": {
      "text/plain": [
       "(14066, 70)"
      ]
     },
     "metadata": {},
     "output_type": "display_data"
    },
    {
     "data": {
      "text/plain": [
       "(44919, 1)"
      ]
     },
     "metadata": {},
     "output_type": "display_data"
    },
    {
     "data": {
      "text/plain": [
       "(11254, 1)"
      ]
     },
     "metadata": {},
     "output_type": "display_data"
    },
    {
     "data": {
      "text/plain": [
       "(14066, 1)"
      ]
     },
     "metadata": {},
     "output_type": "display_data"
    }
   ],
   "source": [
    "display(X_train.shape)\n",
    "display(X_val.shape)\n",
    "display(X_test.shape)\n",
    "display(y_train.shape)\n",
    "display(y_val.shape)\n",
    "display(y_test.shape)"
   ]
  },
  {
   "cell_type": "code",
   "execution_count": 118,
   "metadata": {},
   "outputs": [
    {
     "data": {
      "text/plain": [
       "[(1, 61),\n",
       " (61, 62),\n",
       " (62, 63),\n",
       " (63, 64),\n",
       " (64, 65),\n",
       " (65, 66),\n",
       " (66, 67),\n",
       " (67, 68),\n",
       " (68, 69),\n",
       " (69, 70)]"
      ]
     },
     "execution_count": 118,
     "metadata": {},
     "output_type": "execute_result"
    }
   ],
   "source": [
    "from sklearn.preprocessing import MinMaxScaler\n",
    "\n",
    "scale_partition = [(1,61)]+[(61+i,62+i) for i in range(9)]\n",
    "scale_partition"
   ]
  },
  {
   "cell_type": "code",
   "execution_count": 80,
   "metadata": {},
   "outputs": [
    {
     "data": {
      "text/plain": [
       "[((1, 61), MinMaxScaler()),\n",
       " ((61, 62), MinMaxScaler()),\n",
       " ((62, 63), MinMaxScaler()),\n",
       " ((63, 64), MinMaxScaler()),\n",
       " ((64, 65), MinMaxScaler()),\n",
       " ((65, 66), MinMaxScaler()),\n",
       " ((66, 67), MinMaxScaler()),\n",
       " ((67, 68), MinMaxScaler()),\n",
       " ((68, 69), MinMaxScaler()),\n",
       " ((69, 70), MinMaxScaler())]"
      ]
     },
     "execution_count": 80,
     "metadata": {},
     "output_type": "execute_result"
    }
   ],
   "source": [
    "import copy\n",
    "scaler_list = [copy.deepcopy(MinMaxScaler()) for _ in scale_partition]\n",
    "scalers = list(zip(scale_partition,scaler_list))\n",
    "scalers"
   ]
  },
  {
   "cell_type": "code",
   "execution_count": 119,
   "metadata": {},
   "outputs": [],
   "source": [
    "intermid = []\n",
    "for (cols,scaler) in scalers:\n",
    "    sliced = X_train[:,cols[0]:cols[1]]\n",
    "    sliced = sliced.astype(np.float64)\n",
    "    sliced = scaler.fit_transform(sliced)\n",
    "    intermid.append(sliced)\n",
    "\n",
    "X_train_scaled = np.hstack(intermid)"
   ]
  },
  {
   "cell_type": "code",
   "execution_count": 122,
   "metadata": {},
   "outputs": [
    {
     "data": {
      "text/plain": [
       "(array([1., 1., 1., 1., 1., 1., 1., 1., 1., 1., 1., 1., 1., 1., 1., 1., 1.,\n",
       "        1., 1., 1., 1., 1., 1., 1., 1., 1., 1., 1., 1., 1., 0., 0., 0., 0.,\n",
       "        0., 1., 1., 1., 1., 1., 1., 1., 1., 1., 1., 1., 1., 1., 1., 1., 1.,\n",
       "        1., 1., 1., 1., 1., 1., 1., 1., 1., 1., 1., 1., 1., 1., 1., 1., 1.,\n",
       "        1.]),\n",
       " array([0., 0., 0., 0., 0., 0., 0., 0., 0., 0., 0., 0., 0., 0., 0., 0., 0.,\n",
       "        0., 0., 0., 0., 0., 0., 0., 0., 0., 0., 0., 0., 0., 0., 0., 0., 0.,\n",
       "        0., 0., 0., 0., 0., 0., 0., 0., 0., 0., 0., 0., 0., 0., 0., 0., 0.,\n",
       "        0., 0., 0., 0., 0., 0., 0., 0., 0., 0., 0., 0., 0., 0., 0., 0., 0.,\n",
       "        0.]))"
      ]
     },
     "execution_count": 122,
     "metadata": {},
     "output_type": "execute_result"
    }
   ],
   "source": [
    "np.max(X_train_scaled,axis=0),np.min(X_train_scaled,axis=0)"
   ]
  },
  {
   "cell_type": "code",
   "execution_count": 124,
   "metadata": {},
   "outputs": [
    {
     "data": {
      "text/plain": [
       "(array([30, 31, 32, 33, 34]),)"
      ]
     },
     "execution_count": 124,
     "metadata": {},
     "output_type": "execute_result"
    }
   ],
   "source": [
    "np.where(np.max(X_train_scaled,axis=0)==0)"
   ]
  },
  {
   "cell_type": "code",
   "execution_count": 125,
   "metadata": {},
   "outputs": [
    {
     "data": {
      "text/plain": [
       "(11254, 69)"
      ]
     },
     "metadata": {},
     "output_type": "display_data"
    },
    {
     "data": {
      "text/plain": [
       "array([1.        , 1.        , 1.        , 1.        , 1.        ,\n",
       "       1.        , 1.        , 0.99472388, 0.99929668, 0.99882491,\n",
       "       0.99530682, 0.99789104, 0.997303  , 1.        , 1.        ,\n",
       "       0.95695131, 1.        , 1.        , 1.        , 0.99940199,\n",
       "       1.        , 0.31506849, 0.03456253, 1.        , 0.04519906,\n",
       "       0.19699199, 1.        , 0.24159664, 1.        , 0.        ,\n",
       "       0.        , 0.        , 0.        , 0.        , 0.        ,\n",
       "       1.        , 0.98799376, 0.99284374, 1.        , 1.29839723,\n",
       "       1.        , 1.        , 0.80318139, 0.56242103, 1.        ,\n",
       "       1.        , 1.        , 1.        , 0.6690994 , 1.        ,\n",
       "       1.        , 1.        , 1.        , 1.        , 0.95826645,\n",
       "       1.        , 1.        , 0.91544885, 1.        , 1.        ,\n",
       "       1.        , 1.        , 0.99971727, 1.        , 1.        ,\n",
       "       1.        , 1.        , 1.        , 1.        ])"
      ]
     },
     "metadata": {},
     "output_type": "display_data"
    },
    {
     "data": {
      "text/plain": [
       "array([0.00000000e+00, 0.00000000e+00, 0.00000000e+00, 0.00000000e+00,\n",
       "       0.00000000e+00, 0.00000000e+00, 0.00000000e+00, 0.00000000e+00,\n",
       "       0.00000000e+00, 0.00000000e+00, 0.00000000e+00, 0.00000000e+00,\n",
       "       0.00000000e+00, 0.00000000e+00, 0.00000000e+00, 0.00000000e+00,\n",
       "       0.00000000e+00, 0.00000000e+00, 0.00000000e+00, 0.00000000e+00,\n",
       "       0.00000000e+00, 0.00000000e+00, 0.00000000e+00, 0.00000000e+00,\n",
       "       0.00000000e+00, 0.00000000e+00, 0.00000000e+00, 0.00000000e+00,\n",
       "       0.00000000e+00, 0.00000000e+00, 0.00000000e+00, 0.00000000e+00,\n",
       "       0.00000000e+00, 0.00000000e+00, 0.00000000e+00, 0.00000000e+00,\n",
       "       0.00000000e+00, 0.00000000e+00, 0.00000000e+00, 0.00000000e+00,\n",
       "       0.00000000e+00, 0.00000000e+00, 0.00000000e+00, 0.00000000e+00,\n",
       "       0.00000000e+00, 0.00000000e+00, 0.00000000e+00, 0.00000000e+00,\n",
       "       0.00000000e+00, 0.00000000e+00, 0.00000000e+00, 0.00000000e+00,\n",
       "       0.00000000e+00, 0.00000000e+00, 0.00000000e+00, 0.00000000e+00,\n",
       "       0.00000000e+00, 0.00000000e+00, 0.00000000e+00, 0.00000000e+00,\n",
       "       0.00000000e+00, 0.00000000e+00, 0.00000000e+00, 0.00000000e+00,\n",
       "       0.00000000e+00, 2.26779850e-02, 0.00000000e+00, 0.00000000e+00,\n",
       "       1.00546807e-05])"
      ]
     },
     "metadata": {},
     "output_type": "display_data"
    }
   ],
   "source": [
    "intermid = []\n",
    "for (cols,scaler) in scalers:\n",
    "    sliced = X_val[:,cols[0]:cols[1]]\n",
    "    sliced = sliced.astype(np.float64)\n",
    "    sliced = scaler.transform(sliced)\n",
    "    intermid.append(sliced)\n",
    "\n",
    "X_val_scaled = np.hstack(intermid)\n",
    "display(X_val_scaled.shape)\n",
    "display(np.max(X_val_scaled,axis=0),np.min(X_val_scaled,axis=0))"
   ]
  },
  {
   "cell_type": "code",
   "execution_count": 126,
   "metadata": {},
   "outputs": [
    {
     "data": {
      "text/plain": [
       "(14066, 69)"
      ]
     },
     "metadata": {},
     "output_type": "display_data"
    }
   ],
   "source": [
    "intermid = []\n",
    "for (cols,scaler) in scalers:\n",
    "    sliced = X_test[:,cols[0]:cols[1]]\n",
    "    sliced = sliced.astype(np.float64)\n",
    "    sliced = scaler.transform(sliced)\n",
    "    intermid.append(sliced)\n",
    "\n",
    "X_test_scaled = np.hstack(intermid)\n",
    "display(X_test_scaled.shape)"
   ]
  },
  {
   "cell_type": "code",
   "execution_count": 127,
   "metadata": {},
   "outputs": [
    {
     "data": {
      "text/plain": [
       "'/home/doeun/code/AI/ESTSOFT2024/workspace/2.project_text/aladin_usedbook/processed/model_input'"
      ]
     },
     "execution_count": 127,
     "metadata": {},
     "output_type": "execute_result"
    }
   ],
   "source": [
    "dir_path = os.path.join(PRJCT_PATH,save_dir,'model_input')\n",
    "dir_path"
   ]
  },
  {
   "cell_type": "code",
   "execution_count": 128,
   "metadata": {},
   "outputs": [],
   "source": [
    "import pickle\n",
    "\n",
    "def save_pkl(save_dir,file_name,save_object):\n",
    "    if not os.path.exists(save_dir): os.mkdir(save_dir)\n",
    "    file_path = os.path.join(save_dir,file_name)\n",
    "    with open(file_path,'wb') as f:\n",
    "        pickle.dump(save_object,f)"
   ]
  },
  {
   "cell_type": "code",
   "execution_count": 130,
   "metadata": {},
   "outputs": [],
   "source": [
    "data_type = 'sample'\n",
    "ver=0.75\n",
    "save_pkl(dir_path,'{}.v{}_X_train.pkl'.format(data_type,ver),X_train_scaled)\n",
    "save_pkl(dir_path,'{}.v{}_X_val.pkl'.format(data_type,ver),X_val_scaled)\n",
    "save_pkl(dir_path,'{}.v{}_X_test.pkl'.format(data_type,ver),X_test_scaled)\n",
    "save_pkl(dir_path,'{}.v{}_y_train.pkl'.format(data_type,ver),y_train)\n",
    "save_pkl(dir_path,'{}.v{}_y_val.pkl'.format(data_type,ver),y_val)\n",
    "save_pkl(dir_path,'{}.v{}_y_test.pkl'.format(data_type,ver),y_test)"
   ]
  },
  {
   "cell_type": "code",
   "execution_count": null,
   "metadata": {},
   "outputs": [],
   "source": []
  }
 ],
 "metadata": {
  "kernelspec": {
   "display_name": "EST_PRJ",
   "language": "python",
   "name": "python3"
  },
  "language_info": {
   "codemirror_mode": {
    "name": "ipython",
    "version": 3
   },
   "file_extension": ".py",
   "mimetype": "text/x-python",
   "name": "python",
   "nbconvert_exporter": "python",
   "pygments_lexer": "ipython3",
   "version": "3.8.12"
  },
  "orig_nbformat": 4
 },
 "nbformat": 4,
 "nbformat_minor": 2
}
