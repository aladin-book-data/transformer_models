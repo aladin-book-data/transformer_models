{
 "cells": [
  {
   "cell_type": "code",
   "execution_count": null,
   "metadata": {},
   "outputs": [],
   "source": []
  },
  {
   "cell_type": "code",
   "execution_count": 2,
   "metadata": {},
   "outputs": [],
   "source": [
    "import numpy as np\n",
    "import pandas as pd\n",
    "import seaborn as sns\n",
    "import matplotlib as mpl\n",
    "import matplotlib.pyplot as plt\n",
    "import matplotlib_inline.backend_inline\n",
    "\n",
    "# 그래프의 폰트 출력을 선명하게 (svg, retina 등이 있음)\n",
    "matplotlib_inline.backend_inline.set_matplotlib_formats(\"png2x\")\n",
    "# 테마 설정: \"default\", \"classic\", \"dark_background\", \"fivethirtyeight\", \"seaborn\"\n",
    "mpl.style.use(\"default\")\n",
    "# 이미지가 레이아웃 안으로 들어오도록 함\n",
    "# https://matplotlib.org/stable/users/explain/axes/constrainedlayout_guide.html\n",
    "mpl.rcParams.update({\"figure.constrained_layout.use\": True})\n",
    "\n",
    "#font, line, marker 등의 배율 설정: paper, notebook, talk, poster\n",
    "sns.set_context(\"paper\") \n",
    "#배색 설정: tab10, Set2, Accent, husl\n",
    "sns.set_palette(\"Set2\") \n",
    "#눈금, 배경, 격자 설정: ticks, white, whitegrid, dark, darkgrid\n",
    "# withegrid: 눈금을 그리고, 각 축의 눈금을 제거\n",
    "sns.set_style(\"whitegrid\") "
   ]
  },
  {
   "cell_type": "code",
   "execution_count": 3,
   "metadata": {},
   "outputs": [],
   "source": [
    "# 로컬에서 \n",
    "\n",
    "plt.rc(\"font\", family = \"D2Coding\")\n",
    "plt.rcParams[\"axes.unicode_minus\"] = False"
   ]
  },
  {
   "cell_type": "code",
   "execution_count": 4,
   "metadata": {},
   "outputs": [],
   "source": [
    "import os, natsort, re\n",
    "from tqdm import tqdm\n",
    "import time, random"
   ]
  },
  {
   "cell_type": "code",
   "execution_count": 5,
   "metadata": {},
   "outputs": [],
   "source": [
    "PRJCT_PATH = '/home/doeun/code/AI/ESTSOFT2024/workspace/2.project_text/aladin_usedbook/'\n",
    "save_dir = 'processed/'"
   ]
  },
  {
   "cell_type": "code",
   "execution_count": 6,
   "metadata": {},
   "outputs": [],
   "source": [
    "import sys\n",
    "\n",
    "sys.path.append(PRJCT_PATH)\n"
   ]
  },
  {
   "cell_type": "code",
   "execution_count": 5,
   "metadata": {},
   "outputs": [],
   "source": [
    "file_name = 'bestseller_cleaned.csv'\n",
    "file_path = os.path.join(PRJCT_PATH,save_dir,file_name)\n",
    "book_whole = pd.read_csv(file_path)"
   ]
  },
  {
   "cell_type": "code",
   "execution_count": 6,
   "metadata": {},
   "outputs": [
    {
     "name": "stdout",
     "output_type": "stream",
     "text": [
      "<class 'pandas.core.frame.DataFrame'>\n",
      "RangeIndex: 158084 entries, 0 to 158083\n",
      "Data columns (total 10 columns):\n",
      " #   Column      Non-Null Count   Dtype \n",
      "---  ------      --------------   ----- \n",
      " 0   상품명         158084 non-null  object\n",
      " 1   ItemId      158084 non-null  int64 \n",
      " 2   저자/아티스트     158084 non-null  object\n",
      " 3   출판사/제작사     158084 non-null  object\n",
      " 4   출간일         158084 non-null  int64 \n",
      " 5   정가          158084 non-null  object\n",
      " 6   판매가         158084 non-null  object\n",
      " 7   세일즈포인트      158084 non-null  int64 \n",
      " 8   대표분류(대분류명)  158084 non-null  object\n",
      " 9   날짜          158084 non-null  object\n",
      "dtypes: int64(3), object(7)\n",
      "memory usage: 12.1+ MB\n"
     ]
    }
   ],
   "source": [
    "book_whole.info()"
   ]
  },
  {
   "cell_type": "code",
   "execution_count": 11,
   "metadata": {},
   "outputs": [
    {
     "name": "stdout",
     "output_type": "stream",
     "text": [
      " : \n",
      " : \n"
     ]
    }
   ],
   "source": [
    "import re\n",
    "\n",
    "rslt = re.finditer(r'\\s:\\s','안녕 : 하십 니:까 : ㅓ')\n",
    "for m in rslt:\n",
    "    print(m.group())\n"
   ]
  },
  {
   "cell_type": "code",
   "execution_count": 17,
   "metadata": {},
   "outputs": [
    {
     "data": {
      "text/html": [
       "<div>\n",
       "<style scoped>\n",
       "    .dataframe tbody tr th:only-of-type {\n",
       "        vertical-align: middle;\n",
       "    }\n",
       "\n",
       "    .dataframe tbody tr th {\n",
       "        vertical-align: top;\n",
       "    }\n",
       "\n",
       "    .dataframe thead th {\n",
       "        text-align: right;\n",
       "    }\n",
       "</style>\n",
       "<table border=\"1\" class=\"dataframe\">\n",
       "  <thead>\n",
       "    <tr style=\"text-align: right;\">\n",
       "      <th></th>\n",
       "      <th>상품명</th>\n",
       "      <th>ItemId</th>\n",
       "      <th>저자/아티스트</th>\n",
       "      <th>출판사/제작사</th>\n",
       "      <th>출간일</th>\n",
       "      <th>정가</th>\n",
       "      <th>판매가</th>\n",
       "      <th>세일즈포인트</th>\n",
       "      <th>대표분류(대분류명)</th>\n",
       "      <th>날짜</th>\n",
       "    </tr>\n",
       "  </thead>\n",
       "  <tbody>\n",
       "    <tr>\n",
       "      <th>138</th>\n",
       "      <td>색채 : 그 화려한 역사</td>\n",
       "      <td>245844</td>\n",
       "      <td>만리오 브루사틴 지음 | 정진국 옮김</td>\n",
       "      <td>까치</td>\n",
       "      <td>20000731</td>\n",
       "      <td>8,000</td>\n",
       "      <td>7,200</td>\n",
       "      <td>312</td>\n",
       "      <td>인문학</td>\n",
       "      <td>2000년10월1주</td>\n",
       "    </tr>\n",
       "    <tr>\n",
       "      <th>605</th>\n",
       "      <td>바로크의 꿈 : 1600-1750년 사이의 건축</td>\n",
       "      <td>247412</td>\n",
       "      <td>프레데릭 다사스 지음</td>\n",
       "      <td>시공사</td>\n",
       "      <td>20000825</td>\n",
       "      <td>7,000</td>\n",
       "      <td>6,300</td>\n",
       "      <td>366</td>\n",
       "      <td>예술/대중문화</td>\n",
       "      <td>2000년10월1주</td>\n",
       "    </tr>\n",
       "    <tr>\n",
       "      <th>755</th>\n",
       "      <td>문화읽기 : 삐라에서 사이버문화까지</td>\n",
       "      <td>241691</td>\n",
       "      <td>고길섶 외 지음</td>\n",
       "      <td>현실문화</td>\n",
       "      <td>20000628</td>\n",
       "      <td>15,000</td>\n",
       "      <td>13,500</td>\n",
       "      <td>531</td>\n",
       "      <td>예술/대중문화</td>\n",
       "      <td>2000년10월1주</td>\n",
       "    </tr>\n",
       "    <tr>\n",
       "      <th>977</th>\n",
       "      <td>책의 역사 : 문자에서 텍스트로</td>\n",
       "      <td>195286</td>\n",
       "      <td>브뤼노 블라셀 지음, 권명희 옮김</td>\n",
       "      <td>시공사</td>\n",
       "      <td>19990515</td>\n",
       "      <td>7,000</td>\n",
       "      <td>6,300</td>\n",
       "      <td>783</td>\n",
       "      <td>인문학</td>\n",
       "      <td>2000년10월2주</td>\n",
       "    </tr>\n",
       "    <tr>\n",
       "      <th>1221</th>\n",
       "      <td>에너지, 힘, 물질 : 19세기의 물리학</td>\n",
       "      <td>248059</td>\n",
       "      <td>피터 하만 지음, 김동원 외 옮김</td>\n",
       "      <td>도서출판성우</td>\n",
       "      <td>20000908</td>\n",
       "      <td>16,000</td>\n",
       "      <td>14,400</td>\n",
       "      <td>58</td>\n",
       "      <td>대학교재/전문서적</td>\n",
       "      <td>2000년10월2주</td>\n",
       "    </tr>\n",
       "    <tr>\n",
       "      <th>...</th>\n",
       "      <td>...</td>\n",
       "      <td>...</td>\n",
       "      <td>...</td>\n",
       "      <td>...</td>\n",
       "      <td>...</td>\n",
       "      <td>...</td>\n",
       "      <td>...</td>\n",
       "      <td>...</td>\n",
       "      <td>...</td>\n",
       "      <td>...</td>\n",
       "    </tr>\n",
       "    <tr>\n",
       "      <th>158043</th>\n",
       "      <td>술술 글쓰기 마법책 2 : 발전책</td>\n",
       "      <td>339534139</td>\n",
       "      <td>오현선 지음, 유민하 그림</td>\n",
       "      <td>파스텔하우스</td>\n",
       "      <td>20240514</td>\n",
       "      <td>12,000</td>\n",
       "      <td>10,800</td>\n",
       "      <td>6125</td>\n",
       "      <td>어린이</td>\n",
       "      <td>2024년7월2주</td>\n",
       "    </tr>\n",
       "    <tr>\n",
       "      <th>158069</th>\n",
       "      <td>벙커 K Bunker K 2024.여름 : 창간호</td>\n",
       "      <td>342144857</td>\n",
       "      <td>박상준 외 지음</td>\n",
       "      <td>빨간콩</td>\n",
       "      <td>20240625</td>\n",
       "      <td>17,500</td>\n",
       "      <td>15,750</td>\n",
       "      <td>2810</td>\n",
       "      <td>청소년</td>\n",
       "      <td>2024년7월2주</td>\n",
       "    </tr>\n",
       "    <tr>\n",
       "      <th>158070</th>\n",
       "      <td>쿠키런 킹덤 19 : 다가오는 결전의 날</td>\n",
       "      <td>341990914</td>\n",
       "      <td>김강현 지음, 김기수 그림</td>\n",
       "      <td>서울문화사</td>\n",
       "      <td>20240628</td>\n",
       "      <td>15,000</td>\n",
       "      <td>13,500</td>\n",
       "      <td>2730</td>\n",
       "      <td>어린이</td>\n",
       "      <td>2024년7월2주</td>\n",
       "    </tr>\n",
       "    <tr>\n",
       "      <th>158078</th>\n",
       "      <td>채사장의 지대넓얕 9 : 세계의 탄생</td>\n",
       "      <td>335784463</td>\n",
       "      <td>채사장.마케마케 지음, 정용환 그림</td>\n",
       "      <td>돌핀북</td>\n",
       "      <td>20240320</td>\n",
       "      <td>15,000</td>\n",
       "      <td>13,500</td>\n",
       "      <td>17218</td>\n",
       "      <td>어린이</td>\n",
       "      <td>2024년7월2주</td>\n",
       "    </tr>\n",
       "    <tr>\n",
       "      <th>158079</th>\n",
       "      <td>백앤아 6 : 저주 걸린 장난감 가게</td>\n",
       "      <td>340091093</td>\n",
       "      <td>돌만 그림, 지유리 글, 백앤아 원작</td>\n",
       "      <td>샌드박스스토리 키즈</td>\n",
       "      <td>20240529</td>\n",
       "      <td>16,800</td>\n",
       "      <td>15,120</td>\n",
       "      <td>9140</td>\n",
       "      <td>어린이</td>\n",
       "      <td>2024년7월2주</td>\n",
       "    </tr>\n",
       "  </tbody>\n",
       "</table>\n",
       "<p>3912 rows × 10 columns</p>\n",
       "</div>"
      ],
      "text/plain": [
       "                                상품명     ItemId               저자/아티스트  \\\n",
       "138                   색채 : 그 화려한 역사     245844  만리오 브루사틴 지음 | 정진국 옮김   \n",
       "605      바로크의 꿈 : 1600-1750년 사이의 건축     247412           프레데릭 다사스 지음   \n",
       "755             문화읽기 : 삐라에서 사이버문화까지     241691              고길섶 외 지음   \n",
       "977               책의 역사 : 문자에서 텍스트로     195286    브뤼노 블라셀 지음, 권명희 옮김   \n",
       "1221         에너지, 힘, 물질 : 19세기의 물리학     248059    피터 하만 지음, 김동원 외 옮김   \n",
       "...                             ...        ...                   ...   \n",
       "158043           술술 글쓰기 마법책 2 : 발전책  339534139        오현선 지음, 유민하 그림   \n",
       "158069  벙커 K Bunker K 2024.여름 : 창간호  342144857              박상준 외 지음   \n",
       "158070       쿠키런 킹덤 19 : 다가오는 결전의 날  341990914        김강현 지음, 김기수 그림   \n",
       "158078         채사장의 지대넓얕 9 : 세계의 탄생  335784463   채사장.마케마케 지음, 정용환 그림   \n",
       "158079         백앤아 6 : 저주 걸린 장난감 가게  340091093  돌만 그림, 지유리 글, 백앤아 원작   \n",
       "\n",
       "           출판사/제작사       출간일      정가     판매가  세일즈포인트 대표분류(대분류명)          날짜  \n",
       "138             까치  20000731   8,000   7,200     312        인문학  2000년10월1주  \n",
       "605            시공사  20000825   7,000   6,300     366    예술/대중문화  2000년10월1주  \n",
       "755           현실문화  20000628  15,000  13,500     531    예술/대중문화  2000년10월1주  \n",
       "977            시공사  19990515   7,000   6,300     783        인문학  2000년10월2주  \n",
       "1221        도서출판성우  20000908  16,000  14,400      58  대학교재/전문서적  2000년10월2주  \n",
       "...            ...       ...     ...     ...     ...        ...         ...  \n",
       "158043      파스텔하우스  20240514  12,000  10,800    6125        어린이   2024년7월2주  \n",
       "158069         빨간콩  20240625  17,500  15,750    2810        청소년   2024년7월2주  \n",
       "158070       서울문화사  20240628  15,000  13,500    2730        어린이   2024년7월2주  \n",
       "158078         돌핀북  20240320  15,000  13,500   17218        어린이   2024년7월2주  \n",
       "158079  샌드박스스토리 키즈  20240529  16,800  15,120    9140        어린이   2024년7월2주  \n",
       "\n",
       "[3912 rows x 10 columns]"
      ]
     },
     "execution_count": 17,
     "metadata": {},
     "output_type": "execute_result"
    }
   ],
   "source": [
    "cond = book_whole['상품명'].str.contains(r'\\s:\\s',regex=True)\n",
    "np.sum(cond)\n",
    "book_whole[cond]"
   ]
  },
  {
   "cell_type": "code",
   "execution_count": 8,
   "metadata": {},
   "outputs": [],
   "source": [
    "file_name = 'usedproduct_bestseller_cleaned_240718_concatted.csv'\n",
    "file_path = os.path.join(PRJCT_PATH,save_dir,'usedbook_data','concatted',file_name)\n",
    "used_whole = pd.read_csv(file_path)"
   ]
  },
  {
   "cell_type": "code",
   "execution_count": 9,
   "metadata": {},
   "outputs": [
    {
     "name": "stdout",
     "output_type": "stream",
     "text": [
      "<class 'pandas.core.frame.DataFrame'>\n",
      "RangeIndex: 784213 entries, 0 to 784212\n",
      "Data columns (total 7 columns):\n",
      " #   Column        Non-Null Count   Dtype \n",
      "---  ------        --------------   ----- \n",
      " 0   ItemId        784213 non-null  int64 \n",
      " 1   used_idx      784213 non-null  int64 \n",
      " 2   delivery_fee  784213 non-null  int64 \n",
      " 3   price         784213 non-null  int64 \n",
      " 4   quality       784213 non-null  object\n",
      " 5   store         784213 non-null  object\n",
      " 6   url           784213 non-null  object\n",
      "dtypes: int64(4), object(3)\n",
      "memory usage: 41.9+ MB\n"
     ]
    }
   ],
   "source": [
    "used_whole.info()"
   ]
  },
  {
   "cell_type": "code",
   "execution_count": 15,
   "metadata": {},
   "outputs": [
    {
     "data": {
      "text/plain": [
       "0"
      ]
     },
     "execution_count": 15,
     "metadata": {},
     "output_type": "execute_result"
    }
   ],
   "source": [
    "cond = used_whole.duplicated(subset=['ItemId','used_idx'],keep=False)\n",
    "np.sum(cond)"
   ]
  },
  {
   "cell_type": "code",
   "execution_count": 17,
   "metadata": {},
   "outputs": [
    {
     "data": {
      "text/plain": [
       "103055"
      ]
     },
     "execution_count": 17,
     "metadata": {},
     "output_type": "execute_result"
    }
   ],
   "source": [
    "len(used_whole.ItemId.unique())"
   ]
  },
  {
   "cell_type": "code",
   "execution_count": null,
   "metadata": {},
   "outputs": [],
   "source": []
  }
 ],
 "metadata": {
  "kernelspec": {
   "display_name": "EST_PRJ",
   "language": "python",
   "name": "python3"
  },
  "language_info": {
   "codemirror_mode": {
    "name": "ipython",
    "version": 3
   },
   "file_extension": ".py",
   "mimetype": "text/x-python",
   "name": "python",
   "nbconvert_exporter": "python",
   "pygments_lexer": "ipython3",
   "version": "3.8.12"
  },
  "orig_nbformat": 4
 },
 "nbformat": 4,
 "nbformat_minor": 2
}
