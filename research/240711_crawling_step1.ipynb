{
  "cells": [
    {
      "cell_type": "markdown",
      "metadata": {},
      "source": [
        "## 요약\n",
        "\n"
      ]
    },
    {
      "cell_type": "code",
      "execution_count": 2,
      "metadata": {},
      "outputs": [],
      "source": [
        "import numpy as np\n",
        "import pandas as pd\n",
        "import seaborn as sns\n",
        "import matplotlib as mpl\n",
        "import matplotlib.pyplot as plt\n",
        "import matplotlib_inline.backend_inline\n",
        "\n",
        "# 그래프의 폰트 출력을 선명하게 (svg, retina 등이 있음)\n",
        "matplotlib_inline.backend_inline.set_matplotlib_formats(\"png2x\")\n",
        "# 테마 설정: \"default\", \"classic\", \"dark_background\", \"fivethirtyeight\", \"seaborn\"\n",
        "mpl.style.use(\"default\")\n",
        "# 이미지가 레이아웃 안으로 들어오도록 함\n",
        "# https://matplotlib.org/stable/users/explain/axes/constrainedlayout_guide.html\n",
        "mpl.rcParams.update({\"figure.constrained_layout.use\": True})\n",
        "\n",
        "#font, line, marker 등의 배율 설정: paper, notebook, talk, poster\n",
        "sns.set_context(\"paper\") \n",
        "#배색 설정: tab10, Set2, Accent, husl\n",
        "sns.set_palette(\"Set2\") \n",
        "#눈금, 배경, 격자 설정: ticks, white, whitegrid, dark, darkgrid\n",
        "# withegrid: 눈금을 그리고, 각 축의 눈금을 제거\n",
        "sns.set_style(\"whitegrid\") "
      ]
    },
    {
      "cell_type": "code",
      "execution_count": 3,
      "metadata": {},
      "outputs": [],
      "source": [
        "# 로컬에서 \n",
        "\n",
        "plt.rc(\"font\", family = \"D2Coding\")\n",
        "plt.rcParams[\"axes.unicode_minus\"] = False"
      ]
    },
    {
      "cell_type": "code",
      "execution_count": 4,
      "metadata": {},
      "outputs": [],
      "source": [
        "# 필요한 패키지 import\n",
        "from bs4 import BeautifulSoup\n",
        "import requests\n",
        "import re\n",
        "import os, natsort"
      ]
    },
    {
      "cell_type": "code",
      "execution_count": 5,
      "metadata": {},
      "outputs": [],
      "source": [
        "PRJCT_PATH = '/home/doeun/code/AI/ESTSOFT2024/workspace/2.project_text/aladin_usedbook'\n",
        "save_dir = 'processed'\n",
        "date = 240711\n",
        "file_name = f'unused_filtered_{date}.csv'"
      ]
    },
    {
      "cell_type": "markdown",
      "metadata": {},
      "source": [
        "### 앞선 내용 요약\n",
        "- 비중고도서 목록과 중고도서 목록, 2 파일을 관리하기로 결정\n",
        "    - 비중고도서 ItemId를 기준으로 각 중고정보 페이지를 접근하여 크롤링\n",
        "        - 비중고도서 페이지 url\n",
        "            - ```https://www.aladin.co.kr/shop/wproduct.aspx?ItemId={}```\n",
        "        - 중고정보 페이지 url\n",
        "            -```https://www.aladin.co.kr/shop/UsedShop/wuseditemall.aspx?ItemId={}&TabType=3&Fix=1``` \n",
        "        - ItemId에 규칙이 따로 없는 것으로 추정\n",
        "    - 비중고도서 목록에는 각 도서별 정보 (ItemId, 도서명, 저자, 출판사, 세일즈포인트 등)\n",
        "    - 중고도서 목록에는 각 매물 별 정보 (책이름, ItemId, 중고등급, 판매가, 할인율)\n",
        "- 비중고도서 목록\n",
        "    - 구분 : '국내도서' 중 저자, 출판사, 대분류가 null이 아닌 경우만 추려서 사용\n",
        "    - ItemId 기준 중복 정리\n",
        "    - ItemId 기준 keep=last로 해서 중복 제거\n",
        "    - 부정확할 수 있는 정보는 이후 크롤링해서 체크 후 업데이트 하는 것으로\n",
        "        - 저자가 복수일 때 양식이 통일되지 않음\n",
        "            - 다음 두 양식이 혼용\n",
        "            1. AA, BB, CC 지음\n",
        "            2. AA 외 지음\n",
        "        - SalesPoint는 이후에는 crawling해서 확인하는 걸로\n",
        "            - 매일 업데이트 되기 때문에 도서별 정보가 다소 다를 수 있음"
      ]
    },
    {
      "cell_type": "markdown",
      "metadata": {},
      "source": [
        "**정해진 프로세스**\n",
        "\n",
        "0. 임의의 연/월/주를 10개 골라서 itemid 목록 작성\n",
        "1. 임의의 새 상품 페이지를 들어간다\n",
        "2. 새 상품 관련 정보 수집\n",
        "3. 해당 도서의 중고 정보 페이지로 접근\n",
        "4. 각 도서별 중고 상품 정보 수집"
      ]
    },
    {
      "cell_type": "code",
      "execution_count": 6,
      "metadata": {},
      "outputs": [
        {
          "name": "stdout",
          "output_type": "stream",
          "text": [
            "<class 'pandas.core.frame.DataFrame'>\n",
            "RangeIndex: 9328 entries, 0 to 9327\n",
            "Data columns (total 15 columns):\n",
            " #   Column      Non-Null Count  Dtype  \n",
            "---  ------      --------------  -----  \n",
            " 0   순번/순위       9328 non-null   float64\n",
            " 1   구분          9328 non-null   object \n",
            " 2   상품명         9328 non-null   object \n",
            " 3   ItemId      9328 non-null   int64  \n",
            " 4   ISBN13      9264 non-null   object \n",
            " 5   부가기호        7886 non-null   object \n",
            " 6   저자/아티스트     9328 non-null   object \n",
            " 7   출판사/제작사     9328 non-null   object \n",
            " 8   출간일         9328 non-null   object \n",
            " 9   정가          9328 non-null   int64  \n",
            " 10  판매가         9328 non-null   int64  \n",
            " 11  마일리지        9328 non-null   object \n",
            " 12  세일즈포인트      9328 non-null   float64\n",
            " 13  대표분류(대분류명)  9328 non-null   object \n",
            " 14  source      9328 non-null   object \n",
            "dtypes: float64(2), int64(3), object(10)\n",
            "memory usage: 1.1+ MB\n"
          ]
        }
      ],
      "source": [
        "file_path = os.path.join(PRJCT_PATH,save_dir,file_name)\n",
        "df_unused = pd.read_csv(file_path)\n",
        "df_unused.info() "
      ]
    },
    {
      "cell_type": "code",
      "execution_count": 7,
      "metadata": {
        "id": "uWzpGdQiFOj8"
      },
      "outputs": [],
      "source": [
        "# 가져올 책 범위,ID.. 값 정의\n",
        "id_list = list(df_unused.ItemId.values)"
      ]
    },
    {
      "cell_type": "markdown",
      "metadata": {},
      "source": [
        "### 중고정보 페이지 구조\n",
        "- ``#Ere_prod_allwrap_box > div.Ere_prod_middlewrap > div.Ere_usedsell_table > table > tbody`` 이하에 중고 매물가 있음 내용이 있음\n",
        "- 이하 tr 들이 row\n",
        "- 첫번째 tr은 header, 두번째 이하로 도서 매물 내용\n",
        "- 만약 도서 매물이 없는 경우, tr은 header에 해당하는 하나 밖에 없음"
      ]
    },
    {
      "cell_type": "code",
      "execution_count": 27,
      "metadata": {},
      "outputs": [],
      "source": [
        "## researching\n",
        "\n",
        "url_usedinfo = 'https://www.aladin.co.kr/shop/UsedShop/wuseditemall.aspx?ItemId={}&TabType=3&Fix=1'\n",
        "book_id = 254468327\n",
        "url = url_usedinfo.format(book_id) \n",
        "data = dict()\n",
        "errored_item=dict()\n",
        "base_table ='#Ere_prod_allwrap_box > div.Ere_prod_middlewrap > div.Ere_usedsell_table > table' \n",
        "\n",
        "r = requests.get(url)\n",
        "if r.status_code != 200:\n",
        "    errored_item[book_id] = 'status!=200'\n",
        "    raise Exception\n",
        "html=r.text\n",
        "soup=BeautifulSoup(html, 'lxml') #  BeautifulSoup 클래스의 인스턴스 생성\n",
        "table = soup.select_one(base_table)\n",
        "\n",
        "used_list = table.find_all('tr')\n",
        "if len(used_list) <= 1 : raise Exception"
      ]
    },
    {
      "cell_type": "code",
      "execution_count": null,
      "metadata": {},
      "outputs": [
        {
          "data": {
            "text/plain": [
              "3"
            ]
          },
          "metadata": {},
          "output_type": "display_data"
        }
      ],
      "source": [
        "len(table.find_all('tr'))"
      ]
    },
    {
      "cell_type": "code",
      "execution_count": 36,
      "metadata": {},
      "outputs": [
        {
          "data": {
            "text/plain": [
              "'최상'"
            ]
          },
          "metadata": {},
          "output_type": "display_data"
        },
        {
          "data": {
            "text/plain": [
              "'5,600'"
            ]
          },
          "metadata": {},
          "output_type": "display_data"
        },
        {
          "data": {
            "text/plain": [
              "'배송비 : 2,500원'"
            ]
          },
          "metadata": {},
          "output_type": "display_data"
        }
      ],
      "source": [
        "display(used_list[1].select_one('td:nth-child(3) > span > span').get_text())\n",
        "display(used_list[1].select_one('td:nth-child(4) > div > ul > li.Ere_sub_pink > span').get_text())\n",
        "display(used_list[1].select_one('td:nth-child(4) > div > ul > li:nth-child(3)').get_text())\n",
        "\n",
        "# 등급, 판매가, 배송비, url\n",
        "\n",
        "#url : #Ere_prod_allwrap_box > div.Ere_prod_middlewrap > div.Ere_usedsell_table > table > tbody > tr:nth-child(3) > td.sell_tableCF1 > a\n",
        "# #Ere_prod_allwrap_box > div.Ere_prod_middlewrap > div.Ere_usedsell_table > table > tbody > tr:nth-child(5) > td.sell_tableCF1 > a\n",
        "#등급 : #Ere_prod_allwrap_box > div.Ere_prod_middlewrap > div.Ere_usedsell_table > table > tbody > tr:nth-child(3) > td:nth-child(3) > span > span \n",
        "#판매가 : #Ere_prod_allwrap_box > div.Ere_prod_middlewrap > div.Ere_usedsell_table > table > tbody > tr:nth-child(3) > td:nth-child(4) > div > ul > li.Ere_sub_pink > span\n",
        "#배송비 : #Ere_prod_allwrap_box > div.Ere_prod_middlewrap > div.Ere_usedsell_table > table > tbody > tr:nth-child(3) > td:nth-child(4) > div > ul > li:nth-child(3)"
      ]
    },
    {
      "cell_type": "code",
      "execution_count": 41,
      "metadata": {},
      "outputs": [
        {
          "data": {
            "text/plain": [
              "['__dict__']"
            ]
          },
          "execution_count": 41,
          "metadata": {},
          "output_type": "execute_result"
        }
      ],
      "source": [
        "list(filter(lambda x : 'dict' in x,used_list[2].select_one('td.sell_tableCF1 > a').__dir__()))"
      ]
    },
    {
      "cell_type": "code",
      "execution_count": 51,
      "metadata": {},
      "outputs": [
        {
          "data": {
            "text/plain": [
              "['최상']"
            ]
          },
          "execution_count": 51,
          "metadata": {},
          "output_type": "execute_result"
        }
      ],
      "source": [
        "used_list[2].select_one('td:nth-child(3) > span > span').__dict__['contents']"
      ]
    },
    {
      "cell_type": "code",
      "execution_count": 52,
      "metadata": {},
      "outputs": [
        {
          "data": {
            "text/plain": [
              "['배송비 : 2,500원']"
            ]
          },
          "execution_count": 52,
          "metadata": {},
          "output_type": "execute_result"
        }
      ],
      "source": [
        "used_list[2].select_one('td:nth-child(4) > div > ul > li:nth-child(3)').__dict__['contents']"
      ]
    },
    {
      "cell_type": "code",
      "execution_count": 48,
      "metadata": {},
      "outputs": [
        {
          "data": {
            "text/plain": [
              "'https://www.aladin.co.kr/shop/wproduct.aspx?ItemId=340672167'"
            ]
          },
          "execution_count": 48,
          "metadata": {},
          "output_type": "execute_result"
        }
      ],
      "source": [
        "used_list[2].select_one('td.sell_tableCF1 > a').__dict__['attrs']['href']"
      ]
    },
    {
      "cell_type": "code",
      "execution_count": 56,
      "metadata": {},
      "outputs": [
        {
          "data": {
            "text/plain": [
              "{1: {'quality': '최상',\n",
              "  'price': '5600',\n",
              "  'delivery fee': '2500',\n",
              "  'url': 'https://www.aladin.co.kr/shop/wproduct.aspx?ItemId=341867477'},\n",
              " 2: {'quality': '최상',\n",
              "  'price': '5600',\n",
              "  'delivery fee': '2500',\n",
              "  'url': 'https://www.aladin.co.kr/shop/wproduct.aspx?ItemId=340672167'}}"
            ]
          },
          "execution_count": 56,
          "metadata": {},
          "output_type": "execute_result"
        }
      ],
      "source": [
        "selector_dict = {\n",
        "   'quality': ('td:nth-child(3) > span > span',lambda x : x.__dict__['contents'][0].strip()),\n",
        "   'price': ('td:nth-child(4) > div > ul > li.Ere_sub_pink > span',lambda x : x.get_text().strip().replace(',','')),\n",
        "   'delivery fee': ('td:nth-child(4) > div > ul > li:nth-child(3)',lambda x : x.get_text().strip().split(' : ')[1][:-1].replace(',','')),\n",
        "   'url': ('td.sell_tableCF1 > a',lambda x : x['href']),\n",
        "}\n",
        "\n",
        "data_dict = dict()\n",
        "for i in range(1,len(used_list)):\n",
        "   content = used_list[i]\n",
        "   rslt = {\n",
        "      key : func(content.select_one(selector))\n",
        "      for key,(selector,func) in selector_dict.items()\n",
        "   }\n",
        "   data_dict[i] = rslt\n",
        "   \n",
        "data_dict"
      ]
    },
    {
      "cell_type": "markdown",
      "metadata": {},
      "source": [
        "#### 정리된 코드"
      ]
    },
    {
      "cell_type": "code",
      "execution_count": 58,
      "metadata": {},
      "outputs": [],
      "source": [
        "def class_name(clss):\n",
        "  name = str(type(clss)).strip()\n",
        "  name = name[1:-1].split(' ')\n",
        "  return name[1]\n",
        "\n",
        "class CustomError(Exception):\n",
        "  def __init__(self,msg):\n",
        "    super().__init__(msg)"
      ]
    },
    {
      "cell_type": "code",
      "execution_count": 57,
      "metadata": {},
      "outputs": [],
      "source": [
        "from tqdm import tqdm\n",
        "from functools import partial\n",
        "\n",
        "tqdm_1line = partial(tqdm,position=0,leave=True)"
      ]
    },
    {
      "cell_type": "code",
      "execution_count": 76,
      "metadata": {
        "id": "q8m9FNx8FXCK"
      },
      "outputs": [
        {
          "name": "stderr",
          "output_type": "stream",
          "text": [
            "  0%|          | 0/100 [00:00<?, ?it/s]"
          ]
        },
        {
          "name": "stderr",
          "output_type": "stream",
          "text": [
            "  1%|          | 1/100 [00:00<00:36,  2.70it/s]"
          ]
        },
        {
          "name": "stdout",
          "output_type": "stream",
          "text": [
            "time to rest **^^** :  1  |  1.00355880063622\n"
          ]
        },
        {
          "name": "stderr",
          "output_type": "stream",
          "text": [
            "100%|██████████| 100/100 [01:00<00:00,  1.66it/s]\n"
          ]
        }
      ],
      "source": [
        "import time, random\n",
        "\n",
        "# ID를 증가시키며 책 정보 크롤링\n",
        "url_usedinfo = 'https://www.aladin.co.kr/shop/UsedShop/wuseditemall.aspx?ItemId={}&TabType=3&Fix=1'\n",
        "\n",
        "base_table ='#Ere_prod_allwrap_box > div.Ere_prod_middlewrap > div.Ere_usedsell_table > table' \n",
        "selector_dict = {\n",
        "   'quality': ('td:nth-child(3) > span > span',lambda x : x.__dict__['contents'][0].strip()),\n",
        "   'price': ('td:nth-child(4) > div > ul > li.Ere_sub_pink > span',lambda x : x.get_text().strip().replace(',','')),\n",
        "   'delivery fee': ('td:nth-child(4) > div > ul > li:nth-child(3)',lambda x : x.get_text().strip().split(' : ')[1][:-1].replace(',','')),\n",
        "   'url': ('td.sell_tableCF1 > a',lambda x : x['href']),\n",
        "}\n",
        "\n",
        "data_dict = dict()\n",
        "errored_item = dict()\n",
        "rest_count = 0\n",
        "work_limit = 100\n",
        "null_used = list()\n",
        "\n",
        "for n,book_id in enumerate(tqdm(id_list[:work_limit])):\n",
        "    url = url_usedinfo.format(book_id) \n",
        "    data = dict()\n",
        "    if n % (100+random.uniform(0,5)) == 1 :\n",
        "        rest_count,sleeping_time = rest_count+1, (random.uniform(1,3))/2\n",
        "        print('time to rest **^^** : ',rest_count,\" | \",sleeping_time)\n",
        "        time.sleep(sleeping_time)\n",
        "    try:\n",
        "        r = requests.get(url)\n",
        "        if r.status_code != 200: raise Exception('bad request')\n",
        "        html=r.text\n",
        "        soup=BeautifulSoup(html, 'lxml') #  BeautifulSoup 클래스의 인스턴스 생성\n",
        "        table = soup.select_one(base_table)\n",
        "\n",
        "        used_list = table.find_all('tr')\n",
        "        if len(used_list) <= 1 : null_used.append(book_id)\n",
        "        data,error_count = dict(), 0\n",
        "        for i in range(1,len(used_list)):\n",
        "            content = used_list[i]\n",
        "            try :\n",
        "                data[i] = {\n",
        "                   key : func(content.select_one(selector))\n",
        "                   for key,(selector,func) in selector_dict.items()\n",
        "                }\n",
        "            except: error_count += 1\n",
        "        if data : data_dict[book_id] = data\n",
        "        elif len(used_list) > 1 : raise Exception('all product in table raised error')\n",
        "        if error_count : raise Exception('some selector raised error')\n",
        "    except Exception as e:\n",
        "        errored_item[book_id] = f'{class_name(e)}/{e}'"
      ]
    },
    {
      "cell_type": "code",
      "execution_count": 77,
      "metadata": {},
      "outputs": [
        {
          "data": {
            "text/plain": [
              "(1, 80)"
            ]
          },
          "execution_count": 77,
          "metadata": {},
          "output_type": "execute_result"
        }
      ],
      "source": [
        "len(errored_item), len(data_dict)"
      ]
    },
    {
      "cell_type": "code",
      "execution_count": 80,
      "metadata": {},
      "outputs": [
        {
          "data": {
            "text/plain": [
              "{173075: \"'AttributeError'/'NoneType' object has no attribute 'find_all'\"}"
            ]
          },
          "execution_count": 80,
          "metadata": {},
          "output_type": "execute_result"
        }
      ],
      "source": [
        "errored_item"
      ]
    },
    {
      "cell_type": "markdown",
      "metadata": {},
      "source": [
        "**에러**\n",
        "- 173075 : 19금 도서이기 때문에 로그인이 필요했음\n",
        "    - \"화성남자 금성여자의 침실 가꾸기\" /https://www.aladin.co.kr/shop/UsedShop/wuseditemall.aspx?ItemId=173075"
      ]
    },
    {
      "cell_type": "markdown",
      "metadata": {},
      "source": []
    }
  ],
  "metadata": {
    "colab": {
      "provenance": []
    },
    "kernelspec": {
      "display_name": "Python 3",
      "name": "python3"
    },
    "language_info": {
      "codemirror_mode": {
        "name": "ipython",
        "version": 3
      },
      "file_extension": ".py",
      "mimetype": "text/x-python",
      "name": "python",
      "nbconvert_exporter": "python",
      "pygments_lexer": "ipython3",
      "version": "3.8.12"
    }
  },
  "nbformat": 4,
  "nbformat_minor": 0
}
